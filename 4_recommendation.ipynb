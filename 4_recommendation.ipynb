{
 "cells": [
  {
   "cell_type": "markdown",
   "metadata": {},
   "source": [
    "# Book recommendation"
   ]
  },
  {
   "cell_type": "markdown",
   "metadata": {},
   "source": [
    "In this notebook I will use a couple different approaches to build a collaborative recommendation engine. A users library will be composed of whatever titles we could detect through OCR and match to existing titles in the Book Crossing database. Then we will compare that user to the user profiles based on what books Book Crossing gave good ratings to. "
   ]
  },
  {
   "cell_type": "code",
   "execution_count": 552,
   "metadata": {},
   "outputs": [],
   "source": [
    "# data munging\n",
    "import numpy as np\n",
    "import pandas as pd\n",
    "\n",
    "from scipy.linalg import svd\n",
    "\n",
    "# import distance methods\n",
    "from sklearn.metrics.pairwise import cosine_similarity\n",
    "from sklearn.metrics.pairwise import manhattan_distances\n",
    "from sklearn.metrics.pairwise import euclidean_distances\n",
    "\n",
    "from sklearn.decomposition import NMF, TruncatedSVD\n",
    "\n",
    "import seaborn as sns\n",
    "import matplotlib.pyplot as plt\n",
    "\n",
    "import pickle"
   ]
  },
  {
   "cell_type": "markdown",
   "metadata": {},
   "source": [
    "## Getting book info from ISBN"
   ]
  },
  {
   "cell_type": "markdown",
   "metadata": {},
   "source": [
    "This function will help me check which titles each ISBN refers to to sanity check the results of my recommender as we go. "
   ]
  },
  {
   "cell_type": "code",
   "execution_count": 523,
   "metadata": {},
   "outputs": [
    {
     "name": "stdout",
     "output_type": "stream",
     "text": [
      "\u001b[34mBX-CSV-Dump\u001b[m\u001b[m           rated_books_clean     user_item_mat.csv\r\n",
      "\u001b[34mBX-SQL-Dump\u001b[m\u001b[m           rated_books_clean.csv users_clean.csv\r\n",
      "BX-SQL-Dump.zip       ratings_clean.csv     vt.csv\r\n",
      "ISBNs.csv             sigma.csv             vt_10.csv\r\n",
      "all_books_clean.csv   u.csv                 vt_100.csv\r\n"
     ]
    }
   ],
   "source": [
    "!ls data"
   ]
  },
  {
   "cell_type": "code",
   "execution_count": 562,
   "metadata": {},
   "outputs": [],
   "source": [
    "with open('data/rated_books_clean.pkl', 'rb') as f:\n",
    "    books_rated = pickle.load(f)\n",
    "    \n",
    "with open('data/all_books_clean.pkl', 'rb') as f:\n",
    "    books_all = pickle.load(f)\n",
    "    \n",
    "with open('data/users_clean.pkl', 'rb') as f:\n",
    "    users = pickle.load(f)\n",
    "users.columns = ['userID', 'Location', 'Age']\n",
    "  \n",
    "with open('data/ratings_clean.pkl', 'rb') as f:\n",
    "    ratings = pickle.load(f)\n",
    "ratings.columns = ['userID', 'ISBN', 'bookRating']"
   ]
  },
  {
   "cell_type": "code",
   "execution_count": null,
   "metadata": {},
   "outputs": [],
   "source": []
  },
  {
   "cell_type": "code",
   "execution_count": 578,
   "metadata": {},
   "outputs": [
    {
     "name": "stdout",
     "output_type": "stream",
     "text": [
      "210833\n"
     ]
    },
    {
     "data": {
      "text/plain": [
       "'a grizzly death in yellowstone a novel cal glover'"
      ]
     },
     "execution_count": 578,
     "metadata": {},
     "output_type": "execute_result"
    }
   ],
   "source": [
    "def ISBN_to_title(ISBN_, books_all_df=books_all):\n",
    "    '''\n",
    "    takes ISBN and returns the book title and author\n",
    "    from list of all ISBNs (including those not in the cleaned books df)\n",
    "    ------------------------------------------------\n",
    "    ISBN_:\n",
    "        str, ISBN for a book \n",
    "        \n",
    "    ratings_df:\n",
    "        dataframe, ratings df for book ratings (rated_books_clean.csv)\n",
    "        \n",
    "    books_df:\n",
    "        dataframe, books that are included in ratings matrix that were not removed during data cleaning\n",
    "        \n",
    "    book_all_df:\n",
    "        dataframe, all books in a dataframe, including those that were removed during cleaning. \n",
    "    '''\n",
    "    \n",
    "    \n",
    "    try:\n",
    "        if ISBN_ is not None:\n",
    "            if books_all_df[books_all_df.ISBN == ISBN_] is not None:\n",
    "                index = books_all_df[books_all_df['ISBN']==ISBN_].index[0]\n",
    "                print(index)\n",
    "                title = books_all_df.loc[index].title_author\n",
    "\n",
    "                return title\n",
    "    \n",
    "    \n",
    "        else:\n",
    "            pass\n",
    "        \n",
    "    except IndexError:\n",
    "        print(\"ISBN not found.\")\n",
    "        pass\n",
    "\n",
    "ISBN_to_title('0943972353')"
   ]
  },
  {
   "cell_type": "code",
   "execution_count": 579,
   "metadata": {},
   "outputs": [
    {
     "data": {
      "text/html": [
       "<div>\n",
       "<style scoped>\n",
       "    .dataframe tbody tr th:only-of-type {\n",
       "        vertical-align: middle;\n",
       "    }\n",
       "\n",
       "    .dataframe tbody tr th {\n",
       "        vertical-align: top;\n",
       "    }\n",
       "\n",
       "    .dataframe thead th {\n",
       "        text-align: right;\n",
       "    }\n",
       "</style>\n",
       "<table border=\"1\" class=\"dataframe\">\n",
       "  <thead>\n",
       "    <tr style=\"text-align: right;\">\n",
       "      <th></th>\n",
       "      <th>ISBN</th>\n",
       "      <th>bookTitle</th>\n",
       "      <th>bookAuthor</th>\n",
       "      <th>yearOfPublication</th>\n",
       "      <th>publisher</th>\n",
       "      <th>imageUrlS</th>\n",
       "      <th>imageUrlM</th>\n",
       "      <th>imageUrlL</th>\n",
       "      <th>title_author</th>\n",
       "    </tr>\n",
       "  </thead>\n",
       "  <tbody>\n",
       "    <tr>\n",
       "      <th>210833</th>\n",
       "      <td>0943972353</td>\n",
       "      <td>A Grizzly Death in Yellowstone: A Novel</td>\n",
       "      <td>Cal Glover</td>\n",
       "      <td>1994</td>\n",
       "      <td>Homestead Publishing</td>\n",
       "      <td>http://images.amazon.com/images/P/0943972353.0...</td>\n",
       "      <td>http://images.amazon.com/images/P/0943972353.0...</td>\n",
       "      <td>http://images.amazon.com/images/P/0943972353.0...</td>\n",
       "      <td>a grizzly death in yellowstone a novel cal glover</td>\n",
       "    </tr>\n",
       "  </tbody>\n",
       "</table>\n",
       "</div>"
      ],
      "text/plain": [
       "              ISBN                                bookTitle  bookAuthor  \\\n",
       "210833  0943972353  A Grizzly Death in Yellowstone: A Novel  Cal Glover   \n",
       "\n",
       "        yearOfPublication             publisher  \\\n",
       "210833               1994  Homestead Publishing   \n",
       "\n",
       "                                                imageUrlS  \\\n",
       "210833  http://images.amazon.com/images/P/0943972353.0...   \n",
       "\n",
       "                                                imageUrlM  \\\n",
       "210833  http://images.amazon.com/images/P/0943972353.0...   \n",
       "\n",
       "                                                imageUrlL  \\\n",
       "210833  http://images.amazon.com/images/P/0943972353.0...   \n",
       "\n",
       "                                             title_author  \n",
       "210833  a grizzly death in yellowstone a novel cal glover  "
      ]
     },
     "execution_count": 579,
     "metadata": {},
     "output_type": "execute_result"
    }
   ],
   "source": [
    "books_all[books_all.ISBN=='0943972353']"
   ]
  },
  {
   "cell_type": "code",
   "execution_count": 580,
   "metadata": {},
   "outputs": [
    {
     "data": {
      "text/plain": [
       "['0140371508', '1578155037', '0395547857', '0060915587', '0312253389']"
      ]
     },
     "execution_count": 580,
     "metadata": {},
     "output_type": "execute_result"
    }
   ],
   "source": [
    "sample_isbns = books_all.sample(5).ISBN.tolist()\n",
    "sample_isbns"
   ]
  },
  {
   "cell_type": "code",
   "execution_count": 581,
   "metadata": {},
   "outputs": [
    {
     "data": {
      "text/html": [
       "<div>\n",
       "<style scoped>\n",
       "    .dataframe tbody tr th:only-of-type {\n",
       "        vertical-align: middle;\n",
       "    }\n",
       "\n",
       "    .dataframe tbody tr th {\n",
       "        vertical-align: top;\n",
       "    }\n",
       "\n",
       "    .dataframe thead th {\n",
       "        text-align: right;\n",
       "    }\n",
       "</style>\n",
       "<table border=\"1\" class=\"dataframe\">\n",
       "  <thead>\n",
       "    <tr style=\"text-align: right;\">\n",
       "      <th></th>\n",
       "      <th>ISBN</th>\n",
       "      <th>bookTitle</th>\n",
       "      <th>bookAuthor</th>\n",
       "      <th>yearOfPublication</th>\n",
       "      <th>publisher</th>\n",
       "      <th>imageUrlS</th>\n",
       "      <th>imageUrlM</th>\n",
       "      <th>imageUrlL</th>\n",
       "      <th>title_author</th>\n",
       "    </tr>\n",
       "  </thead>\n",
       "  <tbody>\n",
       "    <tr>\n",
       "      <th>2918</th>\n",
       "      <td>0425147622</td>\n",
       "      <td>The Body Farm</td>\n",
       "      <td>Patricia Daniels Cornwell</td>\n",
       "      <td>1995</td>\n",
       "      <td>Berkley Publishing Group</td>\n",
       "      <td>http://images.amazon.com/images/P/0425147622.0...</td>\n",
       "      <td>http://images.amazon.com/images/P/0425147622.0...</td>\n",
       "      <td>http://images.amazon.com/images/P/0425147622.0...</td>\n",
       "      <td>the body farm patricia daniels cornwell</td>\n",
       "    </tr>\n",
       "  </tbody>\n",
       "</table>\n",
       "</div>"
      ],
      "text/plain": [
       "            ISBN      bookTitle                 bookAuthor  yearOfPublication  \\\n",
       "2918  0425147622  The Body Farm  Patricia Daniels Cornwell               1995   \n",
       "\n",
       "                     publisher  \\\n",
       "2918  Berkley Publishing Group   \n",
       "\n",
       "                                              imageUrlS  \\\n",
       "2918  http://images.amazon.com/images/P/0425147622.0...   \n",
       "\n",
       "                                              imageUrlM  \\\n",
       "2918  http://images.amazon.com/images/P/0425147622.0...   \n",
       "\n",
       "                                              imageUrlL  \\\n",
       "2918  http://images.amazon.com/images/P/0425147622.0...   \n",
       "\n",
       "                                 title_author  \n",
       "2918  the body farm patricia daniels cornwell  "
      ]
     },
     "execution_count": 581,
     "metadata": {},
     "output_type": "execute_result"
    }
   ],
   "source": [
    "books_rated[books_rated.title_author == 'the body farm patricia daniels cornwell']"
   ]
  },
  {
   "cell_type": "code",
   "execution_count": null,
   "metadata": {},
   "outputs": [],
   "source": []
  },
  {
   "cell_type": "code",
   "execution_count": 582,
   "metadata": {},
   "outputs": [
    {
     "name": "stdout",
     "output_type": "stream",
     "text": [
      "199353\n",
      "42198\n",
      "174412\n",
      "123811\n",
      "266482\n"
     ]
    },
    {
     "data": {
      "text/plain": [
       "['the light beyond the forest the quest for the holy grail arthurian trilogy vol  rosemary sutcliff',\n",
       " 'blood lines long and short stories ruth rendall',\n",
       " 'children of the wild west younger reader russell freedman',\n",
       " 'a renaissance tapestry the gonzaga of mantua kate simon',\n",
       " 'the superintendents daughter a gil mayo mystery gil mayo mysteries marjorie eccles']"
      ]
     },
     "execution_count": 582,
     "metadata": {},
     "output_type": "execute_result"
    }
   ],
   "source": [
    "[ISBN_to_title(book) for book in sample_isbns] # ADD ERROR HANDLING FOR NONE"
   ]
  },
  {
   "cell_type": "code",
   "execution_count": 583,
   "metadata": {},
   "outputs": [
    {
     "data": {
      "text/plain": [
       "[None, '1573220418', None, '0060974486', None, '0553275860', '0394702239']"
      ]
     },
     "execution_count": 583,
     "metadata": {},
     "output_type": "execute_result"
    }
   ],
   "source": [
    "test_books = [None, '1573220418', None, '0060974486', None, '0553275860', '0394702239']\n",
    "test_books"
   ]
  },
  {
   "cell_type": "code",
   "execution_count": 584,
   "metadata": {},
   "outputs": [
    {
     "data": {
      "text/plain": [
       "[Series([], Name: title_author, dtype: object),\n",
       " Series([], Name: title_author, dtype: object),\n",
       " Series([], Name: title_author, dtype: object),\n",
       " 9573    immortality milan kundera\n",
       " Name: title_author, dtype: object,\n",
       " Series([], Name: title_author, dtype: object),\n",
       " 2583    narcissus and goldmund hermann hesse\n",
       " Name: title_author, dtype: object,\n",
       " Series([], Name: title_author, dtype: object)]"
      ]
     },
     "execution_count": 584,
     "metadata": {},
     "output_type": "execute_result"
    }
   ],
   "source": [
    "[books_rated[books_rated.ISBN == x].title_author for x in test_books]"
   ]
  },
  {
   "cell_type": "markdown",
   "metadata": {},
   "source": [
    "Only Immortality & Narcissus and Goldmund are in the rated books list. that is ok, unfortunately two books (Drown & The Fall) from the books_all list are not in the books_rated list becuase they were removed during cleaning.\n"
   ]
  },
  {
   "cell_type": "code",
   "execution_count": 585,
   "metadata": {},
   "outputs": [],
   "source": [
    "ISBN_to_title(None) # now handles none"
   ]
  },
  {
   "cell_type": "code",
   "execution_count": 586,
   "metadata": {
    "scrolled": true
   },
   "outputs": [
    {
     "name": "stdout",
     "output_type": "stream",
     "text": [
      "71836\n",
      "9573\n",
      "2583\n",
      "36996\n"
     ]
    },
    {
     "data": {
      "text/plain": [
       "[None,\n",
       " 'drown junot diaz',\n",
       " None,\n",
       " 'immortality milan kundera',\n",
       " None,\n",
       " 'narcissus and goldmund hermann hesse',\n",
       " 'the fall  albert camus']"
      ]
     },
     "execution_count": 586,
     "metadata": {},
     "output_type": "execute_result"
    }
   ],
   "source": [
    "[ISBN_to_title(book) for book in test_books] # ADD ERROR HANDLING FOR NONE\n"
   ]
  },
  {
   "cell_type": "markdown",
   "metadata": {},
   "source": [
    "## Getting item-user matrix"
   ]
  },
  {
   "cell_type": "markdown",
   "metadata": {},
   "source": [
    "Before I can do anything, I need to format the data such that the rows are users and the columns are books, with ratings as the values. Only then can I start building a recommender!"
   ]
  },
  {
   "cell_type": "code",
   "execution_count": 534,
   "metadata": {},
   "outputs": [
    {
     "data": {
      "text/html": [
       "<div>\n",
       "<style scoped>\n",
       "    .dataframe tbody tr th:only-of-type {\n",
       "        vertical-align: middle;\n",
       "    }\n",
       "\n",
       "    .dataframe tbody tr th {\n",
       "        vertical-align: top;\n",
       "    }\n",
       "\n",
       "    .dataframe thead th {\n",
       "        text-align: right;\n",
       "    }\n",
       "</style>\n",
       "<table border=\"1\" class=\"dataframe\">\n",
       "  <thead>\n",
       "    <tr style=\"text-align: right;\">\n",
       "      <th></th>\n",
       "      <th>userID</th>\n",
       "      <th>ISBN</th>\n",
       "      <th>bookRating</th>\n",
       "    </tr>\n",
       "  </thead>\n",
       "  <tbody>\n",
       "    <tr>\n",
       "      <th>0</th>\n",
       "      <td>276747</td>\n",
       "      <td>0060517794</td>\n",
       "      <td>9</td>\n",
       "    </tr>\n",
       "    <tr>\n",
       "      <th>1</th>\n",
       "      <td>276747</td>\n",
       "      <td>0671537458</td>\n",
       "      <td>9</td>\n",
       "    </tr>\n",
       "    <tr>\n",
       "      <th>2</th>\n",
       "      <td>276747</td>\n",
       "      <td>0679776818</td>\n",
       "      <td>8</td>\n",
       "    </tr>\n",
       "  </tbody>\n",
       "</table>\n",
       "</div>"
      ],
      "text/plain": [
       "   userID        ISBN  bookRating\n",
       "0  276747  0060517794           9\n",
       "1  276747  0671537458           9\n",
       "2  276747  0679776818           8"
      ]
     },
     "execution_count": 534,
     "metadata": {},
     "output_type": "execute_result"
    }
   ],
   "source": [
    "ratings.head(3)"
   ]
  },
  {
   "cell_type": "code",
   "execution_count": 535,
   "metadata": {},
   "outputs": [
    {
     "data": {
      "text/plain": [
       "0316666343    436\n",
       "0385504209    337\n",
       "0971880107    269\n",
       "0312195516    244\n",
       "059035342X    225\n",
       "             ... \n",
       "0590433466      5\n",
       "0743418700      5\n",
       "037322687X      5\n",
       "0441004016      5\n",
       "0394758277      5\n",
       "Name: ISBN, Length: 10592, dtype: int64"
      ]
     },
     "execution_count": 535,
     "metadata": {},
     "output_type": "execute_result"
    }
   ],
   "source": [
    "rating_counts = ratings.ISBN.value_counts()\n",
    "rating_counts"
   ]
  },
  {
   "cell_type": "code",
   "execution_count": 536,
   "metadata": {},
   "outputs": [
    {
     "data": {
      "text/plain": [
       "<AxesSubplot:xlabel='ISBN'>"
      ]
     },
     "execution_count": 536,
     "metadata": {},
     "output_type": "execute_result"
    },
    {
     "data": {
      "image/png": "[encoded data removed]",
      "text/plain": [
       "<Figure size 432x288 with 1 Axes>"
      ]
     },
     "metadata": {
      "needs_background": "light"
     },
     "output_type": "display_data"
    }
   ],
   "source": [
    "sns.distplot(rating_counts)"
   ]
  },
  {
   "cell_type": "code",
   "execution_count": 537,
   "metadata": {},
   "outputs": [],
   "source": [
    "# n = 10000\n",
    "# top_n = ratings.ISBN.value_counts().index[:n]\n",
    "\n",
    "# most_rated = ratings[ratings.ISBN.isin(top_n)]\n",
    "# most_rated.head()"
   ]
  },
  {
   "cell_type": "code",
   "execution_count": 538,
   "metadata": {},
   "outputs": [
    {
     "name": "stdout",
     "output_type": "stream",
     "text": [
      "<class 'pandas.core.frame.DataFrame'>\n",
      "RangeIndex: 134299 entries, 0 to 134298\n",
      "Data columns (total 3 columns):\n",
      " #   Column      Non-Null Count   Dtype \n",
      "---  ------      --------------   ----- \n",
      " 0   userID      134299 non-null  int64 \n",
      " 1   ISBN        134299 non-null  object\n",
      " 2   bookRating  134299 non-null  int64 \n",
      "dtypes: int64(2), object(1)\n",
      "memory usage: 3.1+ MB\n"
     ]
    }
   ],
   "source": [
    "ratings.info()"
   ]
  },
  {
   "cell_type": "code",
   "execution_count": 539,
   "metadata": {},
   "outputs": [
    {
     "data": {
      "text/plain": [
       "(10592, 12963)"
      ]
     },
     "execution_count": 539,
     "metadata": {},
     "output_type": "execute_result"
    }
   ],
   "source": [
    "item_user_mat = pd.pivot_table(ratings, values=[\"bookRating\"],\n",
    "        index=[\"ISBN\", \"userID\"],\n",
    "        aggfunc=np.mean).unstack()\n",
    "\n",
    "item_user_mat.shape"
   ]
  },
  {
   "cell_type": "code",
   "execution_count": 540,
   "metadata": {},
   "outputs": [
    {
     "data": {
      "text/html": [
       "<div>\n",
       "<style scoped>\n",
       "    .dataframe tbody tr th:only-of-type {\n",
       "        vertical-align: middle;\n",
       "    }\n",
       "\n",
       "    .dataframe tbody tr th {\n",
       "        vertical-align: top;\n",
       "    }\n",
       "\n",
       "    .dataframe thead tr th {\n",
       "        text-align: left;\n",
       "    }\n",
       "\n",
       "    .dataframe thead tr:last-of-type th {\n",
       "        text-align: right;\n",
       "    }\n",
       "</style>\n",
       "<table border=\"1\" class=\"dataframe\">\n",
       "  <thead>\n",
       "    <tr>\n",
       "      <th></th>\n",
       "      <th colspan=\"5\" halign=\"left\">bookRating</th>\n",
       "    </tr>\n",
       "    <tr>\n",
       "      <th>userID</th>\n",
       "      <th>8</th>\n",
       "      <th>99</th>\n",
       "      <th>114</th>\n",
       "      <th>232</th>\n",
       "      <th>242</th>\n",
       "    </tr>\n",
       "    <tr>\n",
       "      <th>ISBN</th>\n",
       "      <th></th>\n",
       "      <th></th>\n",
       "      <th></th>\n",
       "      <th></th>\n",
       "      <th></th>\n",
       "    </tr>\n",
       "  </thead>\n",
       "  <tbody>\n",
       "    <tr>\n",
       "      <th>0002005018</th>\n",
       "      <td>5.0</td>\n",
       "      <td>NaN</td>\n",
       "      <td>NaN</td>\n",
       "      <td>NaN</td>\n",
       "      <td>NaN</td>\n",
       "    </tr>\n",
       "    <tr>\n",
       "      <th>0002251760</th>\n",
       "      <td>NaN</td>\n",
       "      <td>NaN</td>\n",
       "      <td>NaN</td>\n",
       "      <td>NaN</td>\n",
       "      <td>NaN</td>\n",
       "    </tr>\n",
       "    <tr>\n",
       "      <th>0002259001</th>\n",
       "      <td>NaN</td>\n",
       "      <td>NaN</td>\n",
       "      <td>NaN</td>\n",
       "      <td>NaN</td>\n",
       "      <td>NaN</td>\n",
       "    </tr>\n",
       "    <tr>\n",
       "      <th>0003300277</th>\n",
       "      <td>NaN</td>\n",
       "      <td>NaN</td>\n",
       "      <td>NaN</td>\n",
       "      <td>NaN</td>\n",
       "      <td>NaN</td>\n",
       "    </tr>\n",
       "    <tr>\n",
       "      <th>0006374921</th>\n",
       "      <td>NaN</td>\n",
       "      <td>NaN</td>\n",
       "      <td>NaN</td>\n",
       "      <td>NaN</td>\n",
       "      <td>NaN</td>\n",
       "    </tr>\n",
       "  </tbody>\n",
       "</table>\n",
       "</div>"
      ],
      "text/plain": [
       "           bookRating                \n",
       "userID            8   99  114 232 242\n",
       "ISBN                                 \n",
       "0002005018        5.0 NaN NaN NaN NaN\n",
       "0002251760        NaN NaN NaN NaN NaN\n",
       "0002259001        NaN NaN NaN NaN NaN\n",
       "0003300277        NaN NaN NaN NaN NaN\n",
       "0006374921        NaN NaN NaN NaN NaN"
      ]
     },
     "execution_count": 540,
     "metadata": {},
     "output_type": "execute_result"
    }
   ],
   "source": [
    "item_user_mat.iloc[0:5, 0:5]"
   ]
  },
  {
   "cell_type": "code",
   "execution_count": 541,
   "metadata": {},
   "outputs": [],
   "source": [
    "# changing NaNs to 0s\n",
    "\n",
    "item_user_mat.fillna(0, inplace=True)"
   ]
  },
  {
   "cell_type": "code",
   "execution_count": 542,
   "metadata": {},
   "outputs": [
    {
     "data": {
      "text/plain": [
       "0    0002005018\n",
       "1    0002251760\n",
       "2    0002259001\n",
       "3    0003300277\n",
       "4    0006374921\n",
       "5    0006480764\n",
       "6    000648302X\n",
       "7    0006485014\n",
       "8    0006485200\n",
       "9    0006493580\n",
       "Name: ISBN, dtype: object"
      ]
     },
     "execution_count": 542,
     "metadata": {},
     "output_type": "execute_result"
    }
   ],
   "source": [
    "# taking a look at most_rated_wide index\n",
    "pd.Series(item_user_mat.index[:10])"
   ]
  },
  {
   "cell_type": "markdown",
   "metadata": {},
   "source": [
    "## Method 1: Using cosine distance\n",
    "\n",
    "First I will build a simple recommender based on cosine similarity  between books. To do that, first I will generate a user-book rating matrix frmo which I will perform collaborative filtering and recommend books based on user preferences. "
   ]
  },
  {
   "cell_type": "raw",
   "metadata": {},
   "source": [
    "what is happening here? books with similar avg ratings given high cosine similarity? \n",
    "--YES\n",
    "\n",
    "review why cosine sim and not euc dist (understand for text but unclear why for ratings)\n",
    "--SIMILARITY BTW BOOKS FROM PERSPECTIVE OF USER (at origin, imagine on graph)\n",
    "\n",
    "why is this collab and not content based, avg rating just feature of book?\n",
    "--BC RATINGS GENERATED BY USERS\n",
    "\n",
    "if you like a poorly reviewd book, why would you like another poorly reviewd book?\n",
    "--BC ANOTHER USER WHO MAY BE SIMILAR TO YOU REVIEWED THE BOOK SIMILARLY\n",
    "\n",
    "is bigger necessarily better for n most rated?\n",
    "NO, THERE IS A SWEET SPOT OF TOP (QUAL AND QUANT) RATED BOOKS\n",
    "\n",
    "how many users and reviews/user would i need to make a good collaborative rec using SVD?\n",
    "FIND THRESHOLD THAT MAKES SENSE\n",
    "\n",
    "SVD - more features other than just ratings? unpack difference/benefits of that approach\n",
    "--STILL JUST RATINGS, BUT ACROSS NEW FABRICATED DIMENSIONS\n",
    "--USE NMF FOR POTENTIAL TO INTERPRET MEANING OF EACH DIMENSION (LIKE TOPIC MODELING)\n",
    "--MANY WAYS TO APPROACH, GRAB RESULTS FOR EACH BOOK IN QUERY IN EITHER PRODUCT DIMENSION SPACE"
   ]
  },
  {
   "cell_type": "code",
   "execution_count": 68,
   "metadata": {},
   "outputs": [
    {
     "data": {
      "text/plain": [
       "array([[1., 0., 0., ..., 0., 0., 0.],\n",
       "       [0., 1., 0., ..., 0., 0., 0.],\n",
       "       [0., 0., 1., ..., 0., 0., 0.],\n",
       "       ...,\n",
       "       [0., 0., 0., ..., 1., 0., 0.],\n",
       "       [0., 0., 0., ..., 0., 1., 0.],\n",
       "       [0., 0., 0., ..., 0., 0., 1.]])"
      ]
     },
     "execution_count": 68,
     "metadata": {},
     "output_type": "execute_result"
    }
   ],
   "source": [
    "dists = cosine_similarity(item_user_mat)\n",
    "dists"
   ]
  },
  {
   "cell_type": "code",
   "execution_count": 69,
   "metadata": {},
   "outputs": [
    {
     "data": {
      "text/html": [
       "<div>\n",
       "<style scoped>\n",
       "    .dataframe tbody tr th:only-of-type {\n",
       "        vertical-align: middle;\n",
       "    }\n",
       "\n",
       "    .dataframe tbody tr th {\n",
       "        vertical-align: top;\n",
       "    }\n",
       "\n",
       "    .dataframe thead th {\n",
       "        text-align: right;\n",
       "    }\n",
       "</style>\n",
       "<table border=\"1\" class=\"dataframe\">\n",
       "  <thead>\n",
       "    <tr style=\"text-align: right;\">\n",
       "      <th>ISBN</th>\n",
       "      <th>0002005018</th>\n",
       "      <th>0002251760</th>\n",
       "      <th>0002259001</th>\n",
       "      <th>0003300277</th>\n",
       "      <th>0006374921</th>\n",
       "      <th>0006480764</th>\n",
       "      <th>000648302X</th>\n",
       "      <th>0006485014</th>\n",
       "      <th>0006485200</th>\n",
       "      <th>0006493580</th>\n",
       "    </tr>\n",
       "    <tr>\n",
       "      <th>ISBN</th>\n",
       "      <th></th>\n",
       "      <th></th>\n",
       "      <th></th>\n",
       "      <th></th>\n",
       "      <th></th>\n",
       "      <th></th>\n",
       "      <th></th>\n",
       "      <th></th>\n",
       "      <th></th>\n",
       "      <th></th>\n",
       "    </tr>\n",
       "  </thead>\n",
       "  <tbody>\n",
       "    <tr>\n",
       "      <th>0002005018</th>\n",
       "      <td>1.0</td>\n",
       "      <td>0.0</td>\n",
       "      <td>0.0</td>\n",
       "      <td>0.0</td>\n",
       "      <td>0.0</td>\n",
       "      <td>0.000000</td>\n",
       "      <td>0.0</td>\n",
       "      <td>0.000000</td>\n",
       "      <td>0.0</td>\n",
       "      <td>0.0</td>\n",
       "    </tr>\n",
       "    <tr>\n",
       "      <th>0002251760</th>\n",
       "      <td>0.0</td>\n",
       "      <td>1.0</td>\n",
       "      <td>0.0</td>\n",
       "      <td>0.0</td>\n",
       "      <td>0.0</td>\n",
       "      <td>0.000000</td>\n",
       "      <td>0.0</td>\n",
       "      <td>0.000000</td>\n",
       "      <td>0.0</td>\n",
       "      <td>0.0</td>\n",
       "    </tr>\n",
       "    <tr>\n",
       "      <th>0002259001</th>\n",
       "      <td>0.0</td>\n",
       "      <td>0.0</td>\n",
       "      <td>1.0</td>\n",
       "      <td>0.0</td>\n",
       "      <td>0.0</td>\n",
       "      <td>0.000000</td>\n",
       "      <td>0.0</td>\n",
       "      <td>0.000000</td>\n",
       "      <td>0.0</td>\n",
       "      <td>0.0</td>\n",
       "    </tr>\n",
       "    <tr>\n",
       "      <th>0003300277</th>\n",
       "      <td>0.0</td>\n",
       "      <td>0.0</td>\n",
       "      <td>0.0</td>\n",
       "      <td>1.0</td>\n",
       "      <td>0.0</td>\n",
       "      <td>0.000000</td>\n",
       "      <td>0.0</td>\n",
       "      <td>0.000000</td>\n",
       "      <td>0.0</td>\n",
       "      <td>0.0</td>\n",
       "    </tr>\n",
       "    <tr>\n",
       "      <th>0006374921</th>\n",
       "      <td>0.0</td>\n",
       "      <td>0.0</td>\n",
       "      <td>0.0</td>\n",
       "      <td>0.0</td>\n",
       "      <td>1.0</td>\n",
       "      <td>0.000000</td>\n",
       "      <td>0.0</td>\n",
       "      <td>0.000000</td>\n",
       "      <td>0.0</td>\n",
       "      <td>0.0</td>\n",
       "    </tr>\n",
       "    <tr>\n",
       "      <th>0006480764</th>\n",
       "      <td>0.0</td>\n",
       "      <td>0.0</td>\n",
       "      <td>0.0</td>\n",
       "      <td>0.0</td>\n",
       "      <td>0.0</td>\n",
       "      <td>1.000000</td>\n",
       "      <td>0.0</td>\n",
       "      <td>0.177856</td>\n",
       "      <td>0.0</td>\n",
       "      <td>0.0</td>\n",
       "    </tr>\n",
       "    <tr>\n",
       "      <th>000648302X</th>\n",
       "      <td>0.0</td>\n",
       "      <td>0.0</td>\n",
       "      <td>0.0</td>\n",
       "      <td>0.0</td>\n",
       "      <td>0.0</td>\n",
       "      <td>0.000000</td>\n",
       "      <td>1.0</td>\n",
       "      <td>0.000000</td>\n",
       "      <td>0.0</td>\n",
       "      <td>0.0</td>\n",
       "    </tr>\n",
       "    <tr>\n",
       "      <th>0006485014</th>\n",
       "      <td>0.0</td>\n",
       "      <td>0.0</td>\n",
       "      <td>0.0</td>\n",
       "      <td>0.0</td>\n",
       "      <td>0.0</td>\n",
       "      <td>0.177856</td>\n",
       "      <td>0.0</td>\n",
       "      <td>1.000000</td>\n",
       "      <td>0.0</td>\n",
       "      <td>0.0</td>\n",
       "    </tr>\n",
       "    <tr>\n",
       "      <th>0006485200</th>\n",
       "      <td>0.0</td>\n",
       "      <td>0.0</td>\n",
       "      <td>0.0</td>\n",
       "      <td>0.0</td>\n",
       "      <td>0.0</td>\n",
       "      <td>0.000000</td>\n",
       "      <td>0.0</td>\n",
       "      <td>0.000000</td>\n",
       "      <td>1.0</td>\n",
       "      <td>0.0</td>\n",
       "    </tr>\n",
       "    <tr>\n",
       "      <th>0006493580</th>\n",
       "      <td>0.0</td>\n",
       "      <td>0.0</td>\n",
       "      <td>0.0</td>\n",
       "      <td>0.0</td>\n",
       "      <td>0.0</td>\n",
       "      <td>0.000000</td>\n",
       "      <td>0.0</td>\n",
       "      <td>0.000000</td>\n",
       "      <td>0.0</td>\n",
       "      <td>1.0</td>\n",
       "    </tr>\n",
       "  </tbody>\n",
       "</table>\n",
       "</div>"
      ],
      "text/plain": [
       "ISBN        0002005018  0002251760  0002259001  0003300277  0006374921  \\\n",
       "ISBN                                                                     \n",
       "0002005018         1.0         0.0         0.0         0.0         0.0   \n",
       "0002251760         0.0         1.0         0.0         0.0         0.0   \n",
       "0002259001         0.0         0.0         1.0         0.0         0.0   \n",
       "0003300277         0.0         0.0         0.0         1.0         0.0   \n",
       "0006374921         0.0         0.0         0.0         0.0         1.0   \n",
       "0006480764         0.0         0.0         0.0         0.0         0.0   \n",
       "000648302X         0.0         0.0         0.0         0.0         0.0   \n",
       "0006485014         0.0         0.0         0.0         0.0         0.0   \n",
       "0006485200         0.0         0.0         0.0         0.0         0.0   \n",
       "0006493580         0.0         0.0         0.0         0.0         0.0   \n",
       "\n",
       "ISBN        0006480764  000648302X  0006485014  0006485200  0006493580  \n",
       "ISBN                                                                    \n",
       "0002005018    0.000000         0.0    0.000000         0.0         0.0  \n",
       "0002251760    0.000000         0.0    0.000000         0.0         0.0  \n",
       "0002259001    0.000000         0.0    0.000000         0.0         0.0  \n",
       "0003300277    0.000000         0.0    0.000000         0.0         0.0  \n",
       "0006374921    0.000000         0.0    0.000000         0.0         0.0  \n",
       "0006480764    1.000000         0.0    0.177856         0.0         0.0  \n",
       "000648302X    0.000000         1.0    0.000000         0.0         0.0  \n",
       "0006485014    0.177856         0.0    1.000000         0.0         0.0  \n",
       "0006485200    0.000000         0.0    0.000000         1.0         0.0  \n",
       "0006493580    0.000000         0.0    0.000000         0.0         1.0  "
      ]
     },
     "execution_count": 69,
     "metadata": {},
     "output_type": "execute_result"
    }
   ],
   "source": [
    "# transforming into a df and naming cols/rows\n",
    "\n",
    "dists = pd.DataFrame(dists, columns=item_user_mat.index)\n",
    "\n",
    "dists.index = dists.columns\n",
    "dists.iloc[0:10, 0:10]"
   ]
  },
  {
   "cell_type": "code",
   "execution_count": 70,
   "metadata": {},
   "outputs": [
    {
     "data": {
      "text/html": [
       "<div>\n",
       "<style scoped>\n",
       "    .dataframe tbody tr th:only-of-type {\n",
       "        vertical-align: middle;\n",
       "    }\n",
       "\n",
       "    .dataframe tbody tr th {\n",
       "        vertical-align: top;\n",
       "    }\n",
       "\n",
       "    .dataframe thead th {\n",
       "        text-align: right;\n",
       "    }\n",
       "</style>\n",
       "<table border=\"1\" class=\"dataframe\">\n",
       "  <thead>\n",
       "    <tr style=\"text-align: right;\">\n",
       "      <th>ISBN</th>\n",
       "      <th>002542730X</th>\n",
       "      <th>006019491X</th>\n",
       "      <th>0060199652</th>\n",
       "    </tr>\n",
       "    <tr>\n",
       "      <th>ISBN</th>\n",
       "      <th></th>\n",
       "      <th></th>\n",
       "      <th></th>\n",
       "    </tr>\n",
       "  </thead>\n",
       "  <tbody>\n",
       "    <tr>\n",
       "      <th>0002005018</th>\n",
       "      <td>0.0</td>\n",
       "      <td>0.000000</td>\n",
       "      <td>0.0</td>\n",
       "    </tr>\n",
       "    <tr>\n",
       "      <th>0002251760</th>\n",
       "      <td>0.0</td>\n",
       "      <td>0.098171</td>\n",
       "      <td>0.0</td>\n",
       "    </tr>\n",
       "    <tr>\n",
       "      <th>0002259001</th>\n",
       "      <td>0.0</td>\n",
       "      <td>0.000000</td>\n",
       "      <td>0.0</td>\n",
       "    </tr>\n",
       "    <tr>\n",
       "      <th>0003300277</th>\n",
       "      <td>0.0</td>\n",
       "      <td>0.000000</td>\n",
       "      <td>0.0</td>\n",
       "    </tr>\n",
       "    <tr>\n",
       "      <th>0006374921</th>\n",
       "      <td>0.0</td>\n",
       "      <td>0.000000</td>\n",
       "      <td>0.0</td>\n",
       "    </tr>\n",
       "  </tbody>\n",
       "</table>\n",
       "</div>"
      ],
      "text/plain": [
       "ISBN        002542730X  006019491X  0060199652\n",
       "ISBN                                          \n",
       "0002005018         0.0    0.000000         0.0\n",
       "0002251760         0.0    0.098171         0.0\n",
       "0002259001         0.0    0.000000         0.0\n",
       "0003300277         0.0    0.000000         0.0\n",
       "0006374921         0.0    0.000000         0.0"
      ]
     },
     "execution_count": 70,
     "metadata": {},
     "output_type": "execute_result"
    }
   ],
   "source": [
    "ISBNs_i_like = ['002542730X', '006019491X', '0060199652']\n",
    "dists[ISBNs_i_like].head()"
   ]
  },
  {
   "cell_type": "code",
   "execution_count": 71,
   "metadata": {},
   "outputs": [
    {
     "data": {
      "text/plain": [
       "ISBN\n",
       "0060199652    1.034455\n",
       "006019491X    1.034455\n",
       "002542730X    1.000000\n",
       "0679732187    0.288229\n",
       "0028604199    0.261533\n",
       "                ...   \n",
       "0553560735    0.000000\n",
       "0553560727    0.000000\n",
       "0553560719    0.000000\n",
       "0553560441    0.000000\n",
       "0002005018    0.000000\n",
       "Length: 10592, dtype: float64"
      ]
     },
     "execution_count": 71,
     "metadata": {},
     "output_type": "execute_result"
    }
   ],
   "source": [
    "# sums cosine similarity \n",
    "ISBNs_summed = np.sum(dists[ISBNs_i_like], axis=1)\n",
    "ISBNs_summed.sort_values(ascending=False, inplace=True)\n",
    "ISBNs_summed"
   ]
  },
  {
   "cell_type": "code",
   "execution_count": 72,
   "metadata": {},
   "outputs": [
    {
     "data": {
      "text/plain": [
       "['0679732187', '0028604199', '0375406530', '0399146431', '0060275103']"
      ]
     },
     "execution_count": 72,
     "metadata": {},
     "output_type": "execute_result"
    }
   ],
   "source": [
    "ranked_ISBNs = ISBNs_summed.index[ISBNs_summed.index.isin(ISBNs_i_like)==False]\n",
    "ranked_ISBNs = ranked_ISBNs.tolist()\n",
    "ranked_ISBNs[:5]"
   ]
  },
  {
   "cell_type": "code",
   "execution_count": 73,
   "metadata": {},
   "outputs": [],
   "source": [
    "def get_similar(books_list, n=1):\n",
    "    \"\"\"\n",
    "    calculates which books are most similar to the inputs. Must not return\n",
    "    the books that were inputted.\n",
    "    \n",
    "    Parameters\n",
    "    ----------\n",
    "    books: list\n",
    "        ISBNs of books that have been detected from photos earlier\n",
    "    \n",
    "    Returns\n",
    "    -------\n",
    "    ranked_books: list\n",
    "        rank ordered list of book ISBNs\n",
    "    \"\"\"\n",
    "    ISBNs_summed = np.sum(dists[ISBNs_i_like], axis=1)\n",
    "\n",
    "    books_list = [book for book in books_list if book in dists.columns]\n",
    "    books_summed = np.sum(dists[books_list], axis=1)   # faster than apply/lambda\n",
    "    #books_summed = dists[books_list].apply(lambda row: np.sum(row), axis=1)  # slower way to do it\n",
    "    books_summed = books_summed.sort_values(ascending=False)\n",
    "    ranked_books = books_summed.index[books_summed.index.isin(books_list)==False]\n",
    "    ranked_books = ranked_books.tolist()\n",
    "    \n",
    "    if n is None:\n",
    "        return ranked_books\n",
    "    else:\n",
    "        return ranked_books[:n]"
   ]
  },
  {
   "cell_type": "code",
   "execution_count": 74,
   "metadata": {},
   "outputs": [
    {
     "data": {
      "text/plain": [
       "['9871138148', '0393313964', '0393312801', '0393311147', '0393310396']"
      ]
     },
     "execution_count": 74,
     "metadata": {},
     "output_type": "execute_result"
    }
   ],
   "source": [
    "get_similar('0671534734', 5)"
   ]
  },
  {
   "cell_type": "code",
   "execution_count": 75,
   "metadata": {},
   "outputs": [
    {
     "name": "stdout",
     "output_type": "stream",
     "text": [
      "ISBN not found.\n"
     ]
    }
   ],
   "source": [
    "ISBN_to_title('9895550138')"
   ]
  },
  {
   "cell_type": "code",
   "execution_count": 76,
   "metadata": {},
   "outputs": [
    {
     "data": {
      "text/html": [
       "<div>\n",
       "<style scoped>\n",
       "    .dataframe tbody tr th:only-of-type {\n",
       "        vertical-align: middle;\n",
       "    }\n",
       "\n",
       "    .dataframe tbody tr th {\n",
       "        vertical-align: top;\n",
       "    }\n",
       "\n",
       "    .dataframe thead th {\n",
       "        text-align: right;\n",
       "    }\n",
       "</style>\n",
       "<table border=\"1\" class=\"dataframe\">\n",
       "  <thead>\n",
       "    <tr style=\"text-align: right;\">\n",
       "      <th></th>\n",
       "      <th>ISBN</th>\n",
       "      <th>bookTitle</th>\n",
       "      <th>bookAuthor</th>\n",
       "      <th>yearOfPublication</th>\n",
       "      <th>publisher</th>\n",
       "      <th>imageUrlS</th>\n",
       "      <th>imageUrlM</th>\n",
       "      <th>imageUrlL</th>\n",
       "      <th>title_author</th>\n",
       "    </tr>\n",
       "  </thead>\n",
       "  <tbody>\n",
       "    <tr>\n",
       "      <th>3806</th>\n",
       "      <td>0671534734</td>\n",
       "      <td>Unfinished Symphony (Logan)</td>\n",
       "      <td>V.C. Andrews</td>\n",
       "      <td>1997</td>\n",
       "      <td>Pocket</td>\n",
       "      <td>http://images.amazon.com/images/P/0671534734.0...</td>\n",
       "      <td>http://images.amazon.com/images/P/0671534734.0...</td>\n",
       "      <td>http://images.amazon.com/images/P/0671534734.0...</td>\n",
       "      <td>unfinished symphony logan vc andrews</td>\n",
       "    </tr>\n",
       "  </tbody>\n",
       "</table>\n",
       "</div>"
      ],
      "text/plain": [
       "            ISBN                    bookTitle    bookAuthor  \\\n",
       "3806  0671534734  Unfinished Symphony (Logan)  V.C. Andrews   \n",
       "\n",
       "      yearOfPublication publisher  \\\n",
       "3806               1997    Pocket   \n",
       "\n",
       "                                              imageUrlS  \\\n",
       "3806  http://images.amazon.com/images/P/0671534734.0...   \n",
       "\n",
       "                                              imageUrlM  \\\n",
       "3806  http://images.amazon.com/images/P/0671534734.0...   \n",
       "\n",
       "                                              imageUrlL  \\\n",
       "3806  http://images.amazon.com/images/P/0671534734.0...   \n",
       "\n",
       "                              title_author  \n",
       "3806  unfinished symphony logan vc andrews  "
      ]
     },
     "execution_count": 76,
     "metadata": {},
     "output_type": "execute_result"
    }
   ],
   "source": [
    "books_rated[books_rated.ISBN=='0671534734']"
   ]
  },
  {
   "cell_type": "code",
   "execution_count": 77,
   "metadata": {},
   "outputs": [
    {
     "name": "stdout",
     "output_type": "stream",
     "text": [
      "unfinished symphony logan vc andrews \n",
      "\n"
     ]
    },
    {
     "data": {
      "text/plain": [
       "['cien anos de soledad  one hundred years of solitude gabriel garcia marquez',\n",
       " 'girl with curious hair norton paperback fiction david foster wallace',\n",
       " 'the acid house irvine welsh',\n",
       " 'sacred hunger norton paperback fiction barry unsworth',\n",
       " 'letters to a young poet rainer maria rilke']"
      ]
     },
     "execution_count": 77,
     "metadata": {},
     "output_type": "execute_result"
    }
   ],
   "source": [
    "test_ISBN = \"0671534734\"\n",
    "print(ISBN_to_title(test_ISBN), '\\n')\n",
    "\n",
    "[ISBN_to_title(rec) for rec in get_similar(test_ISBN, 5)]\n"
   ]
  },
  {
   "cell_type": "code",
   "execution_count": null,
   "metadata": {},
   "outputs": [],
   "source": []
  },
  {
   "cell_type": "code",
   "execution_count": null,
   "metadata": {},
   "outputs": [],
   "source": []
  },
  {
   "cell_type": "code",
   "execution_count": 78,
   "metadata": {},
   "outputs": [
    {
     "data": {
      "text/plain": [
       "['0316292168', '0465006965', '0670839531', '0812552849', '0517052687']"
      ]
     },
     "execution_count": 78,
     "metadata": {},
     "output_type": "execute_result"
    }
   ],
   "source": [
    "sample_isbns"
   ]
  },
  {
   "cell_type": "code",
   "execution_count": 79,
   "metadata": {},
   "outputs": [
    {
     "data": {
      "text/plain": [
       "['pandora a novel sylvia fraser',\n",
       " 'religion explained the evolutionary origins of religious thought pascal boyer',\n",
       " 'needful things the last castle rock story stephen king',\n",
       " 'the fourth book of lost swords farslayers story farslayers story fred saberhagen',\n",
       " 'yellow brick road wonderful wizard of oz popups series l frank baum']"
      ]
     },
     "execution_count": 79,
     "metadata": {},
     "output_type": "execute_result"
    }
   ],
   "source": [
    "[ISBN_to_title(i) for i in sample_isbns]"
   ]
  },
  {
   "cell_type": "code",
   "execution_count": 80,
   "metadata": {},
   "outputs": [
    {
     "name": "stdout",
     "output_type": "stream",
     "text": [
      "TARGET BOOKS\n",
      "pandora a novel sylvia fraser\n",
      "religion explained the evolutionary origins of religious thought pascal boyer\n",
      "needful things the last castle rock story stephen king\n",
      "the fourth book of lost swords farslayers story farslayers story fred saberhagen\n",
      "yellow brick road wonderful wizard of oz popups series l frank baum\n",
      "\n",
      "\n",
      "RECOMMENDATIONS\n"
     ]
    },
    {
     "data": {
      "text/plain": [
       "['the dark half stephen king',\n",
       " 'four past midnight stephen king',\n",
       " 'rose madder stephen king',\n",
       " 'insomnia stephen king',\n",
       " 'the stand the complete and uncut edition stephen king',\n",
       " 'nightmares amp dreamscapes stephen king',\n",
       " 'dolores claiborne stephen king',\n",
       " 'desperation stephen king',\n",
       " 'the regulators richard bachman',\n",
       " 'wizard and glass the dark tower book  stephen king',\n",
       " 'the drawing of the three the dark tower book  stephen king',\n",
       " 'waste lands tower  the dark tower iii stephen king',\n",
       " 'it stephen king',\n",
       " 'the tommyknockers stephen king',\n",
       " 'the green mile the complete serial novel stephen king']"
      ]
     },
     "execution_count": 80,
     "metadata": {},
     "output_type": "execute_result"
    }
   ],
   "source": [
    "print('TARGET BOOKS')\n",
    "\n",
    "for val in sample_isbns:\n",
    "    print(ISBN_to_title(val))\n",
    "print('\\n')\n",
    "    \n",
    "print('RECOMMENDATIONS')\n",
    "\n",
    "[ISBN_to_title(rec) for rec in get_similar(sample_isbns, 15)]\n"
   ]
  },
  {
   "cell_type": "markdown",
   "metadata": {},
   "source": [
    "Since Stephen King is such a popular and culty novelist, his other works dominate the cosine similarity, which demonstrates how readers of Stephen King's works are much mroe likely to read other titles by him compared to the other books in this list. "
   ]
  },
  {
   "cell_type": "markdown",
   "metadata": {},
   "source": [
    "## Method 2: Single Variable Decomposition"
   ]
  },
  {
   "cell_type": "code",
   "execution_count": 543,
   "metadata": {},
   "outputs": [
    {
     "name": "stdout",
     "output_type": "stream",
     "text": [
      "\u001b[34mBX-CSV-Dump\u001b[m\u001b[m           rated_books_clean     user_item_mat.csv\r\n",
      "\u001b[34mBX-SQL-Dump\u001b[m\u001b[m           rated_books_clean.csv users_clean.csv\r\n",
      "BX-SQL-Dump.zip       ratings_clean.csv     vt.csv\r\n",
      "ISBNs.csv             sigma.csv             vt_10.csv\r\n",
      "all_books_clean.csv   u.csv                 vt_100.csv\r\n"
     ]
    }
   ],
   "source": [
    "!ls data"
   ]
  },
  {
   "cell_type": "code",
   "execution_count": 611,
   "metadata": {},
   "outputs": [],
   "source": [
    "user_item_mat = item_user_mat.T"
   ]
  },
  {
   "cell_type": "code",
   "execution_count": 545,
   "metadata": {},
   "outputs": [],
   "source": [
    "user_item_mat.to_csv('data/user_item_mat.csv', index=False)"
   ]
  },
  {
   "cell_type": "code",
   "execution_count": 612,
   "metadata": {},
   "outputs": [],
   "source": [
    "# regular SVD\n",
    "\n",
    "U, Sigma, VT = svd(user_item_mat)"
   ]
  },
  {
   "cell_type": "code",
   "execution_count": 83,
   "metadata": {},
   "outputs": [],
   "source": [
    "# Truncated SVD\n",
    "\n",
    "# svd = TruncatedSVD(n_components=2000)\n",
    "# svd.fit(user_item_mat)"
   ]
  },
  {
   "cell_type": "markdown",
   "metadata": {},
   "source": [
    "**U**:  \n",
    "    cols = new dimensions  \n",
    "    rows = users  \n",
    "    \n",
    "**VT**:  \n",
    "    cols = items  \n",
    "    rows = new dimensions    \n",
    "\n",
    "**Sigma**: \n",
    "    singular values of decomposition\n",
    "   "
   ]
  },
  {
   "cell_type": "code",
   "execution_count": 85,
   "metadata": {},
   "outputs": [
    {
     "data": {
      "text/plain": [
       "(10592, 10592)"
      ]
     },
     "execution_count": 85,
     "metadata": {},
     "output_type": "execute_result"
    }
   ],
   "source": [
    "VT.shape"
   ]
  },
  {
   "cell_type": "code",
   "execution_count": 86,
   "metadata": {},
   "outputs": [
    {
     "data": {
      "text/plain": [
       "(12963, 12963)"
      ]
     },
     "execution_count": 86,
     "metadata": {},
     "output_type": "execute_result"
    }
   ],
   "source": [
    "U.shape"
   ]
  },
  {
   "cell_type": "code",
   "execution_count": 87,
   "metadata": {},
   "outputs": [
    {
     "data": {
      "text/plain": [
       "(10592,)"
      ]
     },
     "execution_count": 87,
     "metadata": {},
     "output_type": "execute_result"
    }
   ],
   "source": [
    "Sigma.shape"
   ]
  },
  {
   "cell_type": "markdown",
   "metadata": {},
   "source": [
    "### Saving to CSVs"
   ]
  },
  {
   "cell_type": "code",
   "execution_count": null,
   "metadata": {},
   "outputs": [],
   "source": [
    "pd.Series(Sigma).head(800)"
   ]
  },
  {
   "cell_type": "code",
   "execution_count": 94,
   "metadata": {},
   "outputs": [
    {
     "data": {
      "text/plain": [
       "Text(0, 0.5, 'Sigma Value')"
      ]
     },
     "execution_count": 94,
     "metadata": {},
     "output_type": "execute_result"
    },
    {
     "data": {
      "image/png": "[encoded data removed]",
      "text/plain": [
       "<Figure size 432x288 with 1 Axes>"
      ]
     },
     "metadata": {
      "needs_background": "light"
     },
     "output_type": "display_data"
    }
   ],
   "source": [
    "sns.lineplot(np.arange(len(Sigma)), Sigma)\n",
    "plt.suptitle('Feature Weights Scree Plot')\n",
    "plt.xlabel('Dimension number')\n",
    "plt.ylabel('Sigma Value')"
   ]
  },
  {
   "cell_type": "markdown",
   "metadata": {},
   "source": [
    "From this scree plot of Sigma values, we can see that although there is no clearly defined elbow, I determined that 800 would be a good cutoff for the number of features given that that is where the line begins to flatten the most. "
   ]
  },
  {
   "cell_type": "code",
   "execution_count": 488,
   "metadata": {},
   "outputs": [
    {
     "data": {
      "text/plain": [
       "0     310.563391\n",
       "1     200.273229\n",
       "2     193.791116\n",
       "3     178.940918\n",
       "4     170.890937\n",
       "5     166.643104\n",
       "6     166.222528\n",
       "7     163.362657\n",
       "8     157.181485\n",
       "9     155.293119\n",
       "10    153.698197\n",
       "11    148.217726\n",
       "12    146.410817\n",
       "13    145.031039\n",
       "14    142.619638\n",
       "15    140.707730\n",
       "16    138.307097\n",
       "17    137.376599\n",
       "18    135.537244\n",
       "19    134.621075\n",
       "dtype: float64"
      ]
     },
     "execution_count": 488,
     "metadata": {},
     "output_type": "execute_result"
    }
   ],
   "source": [
    "pd.Series(Sigma).head(20)"
   ]
  },
  {
   "cell_type": "code",
   "execution_count": 558,
   "metadata": {},
   "outputs": [],
   "source": [
    "test_array = np.array(['a', 'b', 'c'])\n",
    "\n",
    "with open(\"save.p\", \"wb\") as f:\n",
    "    pickle.dump(test_array, f)"
   ]
  },
  {
   "cell_type": "code",
   "execution_count": 559,
   "metadata": {},
   "outputs": [
    {
     "data": {
      "text/plain": [
       "array(['a', 'b', 'c'], dtype='<U1')"
      ]
     },
     "execution_count": 559,
     "metadata": {},
     "output_type": "execute_result"
    }
   ],
   "source": [
    "with open('save.p', 'rb') as f:\n",
    "    data = pickle.load(f)"
   ]
  },
  {
   "cell_type": "code",
   "execution_count": 595,
   "metadata": {},
   "outputs": [],
   "source": [
    "#pd.DataFrame(np.diag(Sigma)).to_csv('data/sigma.csv', index=False)\n",
    "\n",
    "with open(\"data/sigma.pkl\", \"wb\") as f:\n",
    "    pickle.dump(Sigma, open(\"data/sigma.pkl\", \"wb\"))"
   ]
  },
  {
   "cell_type": "code",
   "execution_count": 613,
   "metadata": {},
   "outputs": [],
   "source": [
    "\n",
    "VT_800 = VT[:800,:]       \n",
    "U_800 = U[:,:800]\n",
    "\n",
    "with open(\"data/vt_800.pkl\", \"wb\") as f:\n",
    "    pickle.dump(VT_800, f)\n",
    "    \n",
    "with open(\"data/u_800.pkl\", \"wb\") as f:\n",
    "    pickle.dump(U_800, f)"
   ]
  },
  {
   "cell_type": "code",
   "execution_count": 614,
   "metadata": {},
   "outputs": [],
   "source": [
    "VT_650 = VT[:650,:]\n",
    "\n",
    "with open(\"data/vt_650.pkl\", \"wb\") as f:\n",
    "    pickle.dump(VT_650, f)"
   ]
  },
  {
   "cell_type": "code",
   "execution_count": 615,
   "metadata": {},
   "outputs": [],
   "source": [
    "VT_500 = VT[:500,:]\n",
    "\n",
    "with open(\"data/vt_500.pkl\", \"wb\") as f:\n",
    "    pickle.dump(VT_500, f)"
   ]
  },
  {
   "cell_type": "code",
   "execution_count": 616,
   "metadata": {},
   "outputs": [],
   "source": [
    "VT_250 = VT[:250,:]\n",
    "\n",
    "with open(\"data/vt_250.pkl\", \"wb\") as f:\n",
    "    pickle.dump(VT_250, f)"
   ]
  },
  {
   "cell_type": "code",
   "execution_count": 617,
   "metadata": {},
   "outputs": [],
   "source": [
    "VT_100 = VT[:100,:]\n",
    "\n",
    "with open(\"data/vt_100.pkl\", \"wb\") as f:\n",
    "    pickle.dump(VT_100, f)"
   ]
  },
  {
   "cell_type": "code",
   "execution_count": 621,
   "metadata": {},
   "outputs": [
    {
     "data": {
      "text/plain": [
       "(100, 10592)"
      ]
     },
     "execution_count": 621,
     "metadata": {},
     "output_type": "execute_result"
    }
   ],
   "source": [
    "VT_100.shape"
   ]
  },
  {
   "cell_type": "code",
   "execution_count": 622,
   "metadata": {},
   "outputs": [],
   "source": [
    "VT_50 = VT[:50,:]\n",
    "\n",
    "with open(\"data/vt_50.pkl\", \"wb\") as f:\n",
    "    pickle.dump(VT_50, f)"
   ]
  },
  {
   "cell_type": "code",
   "execution_count": 623,
   "metadata": {},
   "outputs": [
    {
     "data": {
      "text/plain": [
       "(50, 10592)"
      ]
     },
     "execution_count": 623,
     "metadata": {},
     "output_type": "execute_result"
    }
   ],
   "source": [
    "VT_50.shape"
   ]
  },
  {
   "cell_type": "code",
   "execution_count": 619,
   "metadata": {},
   "outputs": [],
   "source": [
    "VT_10 = VT[:10,:]\n",
    "\n",
    "with open(\"data/vt_10.pkl\", \"wb\") as f:\n",
    "    pickle.dump(VT_10, f)"
   ]
  },
  {
   "cell_type": "code",
   "execution_count": null,
   "metadata": {},
   "outputs": [],
   "source": [
    "dimension_names = ['dim' + str(i) for i in range(len(VT))]\n",
    "\n",
    "ISBNs = user_item_mat.columns\n",
    "\n",
    "user_ids = [x[1] for x in user_item_mat.index]"
   ]
  },
  {
   "cell_type": "code",
   "execution_count": 603,
   "metadata": {},
   "outputs": [
    {
     "data": {
      "text/html": [
       "<div>\n",
       "<style scoped>\n",
       "    .dataframe tbody tr th:only-of-type {\n",
       "        vertical-align: middle;\n",
       "    }\n",
       "\n",
       "    .dataframe tbody tr th {\n",
       "        vertical-align: top;\n",
       "    }\n",
       "\n",
       "    .dataframe thead th {\n",
       "        text-align: right;\n",
       "    }\n",
       "</style>\n",
       "<table border=\"1\" class=\"dataframe\">\n",
       "  <thead>\n",
       "    <tr style=\"text-align: right;\">\n",
       "      <th></th>\n",
       "      <th>Unnamed: 0</th>\n",
       "      <th>ISBN</th>\n",
       "    </tr>\n",
       "  </thead>\n",
       "  <tbody>\n",
       "    <tr>\n",
       "      <th>0</th>\n",
       "      <td>0</td>\n",
       "      <td>0002005018</td>\n",
       "    </tr>\n",
       "    <tr>\n",
       "      <th>1</th>\n",
       "      <td>1</td>\n",
       "      <td>0002251760</td>\n",
       "    </tr>\n",
       "    <tr>\n",
       "      <th>2</th>\n",
       "      <td>2</td>\n",
       "      <td>0002259001</td>\n",
       "    </tr>\n",
       "    <tr>\n",
       "      <th>3</th>\n",
       "      <td>3</td>\n",
       "      <td>0003300277</td>\n",
       "    </tr>\n",
       "    <tr>\n",
       "      <th>4</th>\n",
       "      <td>4</td>\n",
       "      <td>0006374921</td>\n",
       "    </tr>\n",
       "    <tr>\n",
       "      <th>...</th>\n",
       "      <td>...</td>\n",
       "      <td>...</td>\n",
       "    </tr>\n",
       "    <tr>\n",
       "      <th>10587</th>\n",
       "      <td>10587</td>\n",
       "      <td>9726101794</td>\n",
       "    </tr>\n",
       "    <tr>\n",
       "      <th>10588</th>\n",
       "      <td>10588</td>\n",
       "      <td>9726106141</td>\n",
       "    </tr>\n",
       "    <tr>\n",
       "      <th>10589</th>\n",
       "      <td>10589</td>\n",
       "      <td>9727722458</td>\n",
       "    </tr>\n",
       "    <tr>\n",
       "      <th>10590</th>\n",
       "      <td>10590</td>\n",
       "      <td>9770390107900</td>\n",
       "    </tr>\n",
       "    <tr>\n",
       "      <th>10591</th>\n",
       "      <td>10591</td>\n",
       "      <td>9871138148</td>\n",
       "    </tr>\n",
       "  </tbody>\n",
       "</table>\n",
       "<p>10592 rows × 2 columns</p>\n",
       "</div>"
      ],
      "text/plain": [
       "       Unnamed: 0           ISBN\n",
       "0               0     0002005018\n",
       "1               1     0002251760\n",
       "2               2     0002259001\n",
       "3               3     0003300277\n",
       "4               4     0006374921\n",
       "...           ...            ...\n",
       "10587       10587     9726101794\n",
       "10588       10588     9726106141\n",
       "10589       10589     9727722458\n",
       "10590       10590  9770390107900\n",
       "10591       10591     9871138148\n",
       "\n",
       "[10592 rows x 2 columns]"
      ]
     },
     "execution_count": 603,
     "metadata": {},
     "output_type": "execute_result"
    }
   ],
   "source": [
    "ISBNs"
   ]
  },
  {
   "cell_type": "code",
   "execution_count": 604,
   "metadata": {},
   "outputs": [
    {
     "ename": "ValueError",
     "evalue": "The truth value of a DataFrame is ambiguous. Use a.empty, a.bool(), a.item(), a.any() or a.all().",
     "output_type": "error",
     "traceback": [
      "\u001b[0;31m---------------------------------------------------------------------------\u001b[0m",
      "\u001b[0;31mValueError\u001b[0m                                Traceback (most recent call last)",
      "\u001b[0;32m<ipython-input-604-dd9f7a712b07>\u001b[0m in \u001b[0;36m<module>\u001b[0;34m\u001b[0m\n\u001b[0;32m----> 1\u001b[0;31m \u001b[0mpd\u001b[0m\u001b[0;34m.\u001b[0m\u001b[0mSeries\u001b[0m\u001b[0;34m(\u001b[0m\u001b[0mISBNs\u001b[0m\u001b[0;34m)\u001b[0m\u001b[0;34m.\u001b[0m\u001b[0mto_csv\u001b[0m\u001b[0;34m(\u001b[0m\u001b[0;34m'data/ISBNs.csv'\u001b[0m\u001b[0;34m)\u001b[0m\u001b[0;34m\u001b[0m\u001b[0;34m\u001b[0m\u001b[0m\n\u001b[0m\u001b[1;32m      2\u001b[0m \u001b[0;34m\u001b[0m\u001b[0m\n\u001b[1;32m      3\u001b[0m \u001b[0mpd\u001b[0m\u001b[0;34m.\u001b[0m\u001b[0mSeries\u001b[0m\u001b[0;34m(\u001b[0m\u001b[0mISBNs\u001b[0m\u001b[0;34m)\u001b[0m\u001b[0;34m.\u001b[0m\u001b[0mto_pickle\u001b[0m\u001b[0;34m(\u001b[0m\u001b[0;34m'data/ISBNs.pkl'\u001b[0m\u001b[0;34m)\u001b[0m\u001b[0;34m\u001b[0m\u001b[0;34m\u001b[0m\u001b[0m\n",
      "\u001b[0;32m~/anaconda3/envs/metis/lib/python3.8/site-packages/pandas/core/series.py\u001b[0m in \u001b[0;36m__init__\u001b[0;34m(self, data, index, dtype, name, copy, fastpath)\u001b[0m\n\u001b[1;32m    200\u001b[0m             \u001b[0mname\u001b[0m \u001b[0;34m=\u001b[0m \u001b[0mibase\u001b[0m\u001b[0;34m.\u001b[0m\u001b[0mmaybe_extract_name\u001b[0m\u001b[0;34m(\u001b[0m\u001b[0mname\u001b[0m\u001b[0;34m,\u001b[0m \u001b[0mdata\u001b[0m\u001b[0;34m,\u001b[0m \u001b[0mtype\u001b[0m\u001b[0;34m(\u001b[0m\u001b[0mself\u001b[0m\u001b[0;34m)\u001b[0m\u001b[0;34m)\u001b[0m\u001b[0;34m\u001b[0m\u001b[0;34m\u001b[0m\u001b[0m\n\u001b[1;32m    201\u001b[0m \u001b[0;34m\u001b[0m\u001b[0m\n\u001b[0;32m--> 202\u001b[0;31m             \u001b[0;32mif\u001b[0m \u001b[0mis_empty_data\u001b[0m\u001b[0;34m(\u001b[0m\u001b[0mdata\u001b[0m\u001b[0;34m)\u001b[0m \u001b[0;32mand\u001b[0m \u001b[0mdtype\u001b[0m \u001b[0;32mis\u001b[0m \u001b[0;32mNone\u001b[0m\u001b[0;34m:\u001b[0m\u001b[0;34m\u001b[0m\u001b[0;34m\u001b[0m\u001b[0m\n\u001b[0m\u001b[1;32m    203\u001b[0m                 \u001b[0;31m# gh-17261\u001b[0m\u001b[0;34m\u001b[0m\u001b[0;34m\u001b[0m\u001b[0;34m\u001b[0m\u001b[0m\n\u001b[1;32m    204\u001b[0m                 warnings.warn(\n",
      "\u001b[0;32m~/anaconda3/envs/metis/lib/python3.8/site-packages/pandas/core/construction.py\u001b[0m in \u001b[0;36mis_empty_data\u001b[0;34m(data)\u001b[0m\n\u001b[1;32m    584\u001b[0m     \u001b[0mis_none\u001b[0m \u001b[0;34m=\u001b[0m \u001b[0mdata\u001b[0m \u001b[0;32mis\u001b[0m \u001b[0;32mNone\u001b[0m\u001b[0;34m\u001b[0m\u001b[0;34m\u001b[0m\u001b[0m\n\u001b[1;32m    585\u001b[0m     \u001b[0mis_list_like_without_dtype\u001b[0m \u001b[0;34m=\u001b[0m \u001b[0mis_list_like\u001b[0m\u001b[0;34m(\u001b[0m\u001b[0mdata\u001b[0m\u001b[0;34m)\u001b[0m \u001b[0;32mand\u001b[0m \u001b[0;32mnot\u001b[0m \u001b[0mhasattr\u001b[0m\u001b[0;34m(\u001b[0m\u001b[0mdata\u001b[0m\u001b[0;34m,\u001b[0m \u001b[0;34m\"dtype\"\u001b[0m\u001b[0;34m)\u001b[0m\u001b[0;34m\u001b[0m\u001b[0;34m\u001b[0m\u001b[0m\n\u001b[0;32m--> 586\u001b[0;31m     \u001b[0mis_simple_empty\u001b[0m \u001b[0;34m=\u001b[0m \u001b[0mis_list_like_without_dtype\u001b[0m \u001b[0;32mand\u001b[0m \u001b[0;32mnot\u001b[0m \u001b[0mdata\u001b[0m\u001b[0;34m\u001b[0m\u001b[0;34m\u001b[0m\u001b[0m\n\u001b[0m\u001b[1;32m    587\u001b[0m     \u001b[0;32mreturn\u001b[0m \u001b[0mis_none\u001b[0m \u001b[0;32mor\u001b[0m \u001b[0mis_simple_empty\u001b[0m\u001b[0;34m\u001b[0m\u001b[0;34m\u001b[0m\u001b[0m\n\u001b[1;32m    588\u001b[0m \u001b[0;34m\u001b[0m\u001b[0m\n",
      "\u001b[0;32m~/anaconda3/envs/metis/lib/python3.8/site-packages/pandas/core/generic.py\u001b[0m in \u001b[0;36m__nonzero__\u001b[0;34m(self)\u001b[0m\n\u001b[1;32m   1476\u001b[0m \u001b[0;34m\u001b[0m\u001b[0m\n\u001b[1;32m   1477\u001b[0m     \u001b[0;32mdef\u001b[0m \u001b[0m__nonzero__\u001b[0m\u001b[0;34m(\u001b[0m\u001b[0mself\u001b[0m\u001b[0;34m)\u001b[0m\u001b[0;34m:\u001b[0m\u001b[0;34m\u001b[0m\u001b[0;34m\u001b[0m\u001b[0m\n\u001b[0;32m-> 1478\u001b[0;31m         raise ValueError(\n\u001b[0m\u001b[1;32m   1479\u001b[0m             \u001b[0;34mf\"The truth value of a {type(self).__name__} is ambiguous. \"\u001b[0m\u001b[0;34m\u001b[0m\u001b[0;34m\u001b[0m\u001b[0m\n\u001b[1;32m   1480\u001b[0m             \u001b[0;34m\"Use a.empty, a.bool(), a.item(), a.any() or a.all().\"\u001b[0m\u001b[0;34m\u001b[0m\u001b[0;34m\u001b[0m\u001b[0m\n",
      "\u001b[0;31mValueError\u001b[0m: The truth value of a DataFrame is ambiguous. Use a.empty, a.bool(), a.item(), a.any() or a.all()."
     ]
    }
   ],
   "source": [
    "pd.Series(ISBNs).to_csv('data/ISBNs.csv')\n",
    "\n",
    "pd.Series(ISBNs).to_pickle('data/ISBNs.pkl')\n"
   ]
  },
  {
   "cell_type": "code",
   "execution_count": 422,
   "metadata": {},
   "outputs": [
    {
     "data": {
      "text/plain": [
       "Index(['0002005018', '0002251760', '0002259001', '0003300277', '0006374921',\n",
       "       '0006480764', '000648302X', '0006485014', '0006485200', '0006493580',\n",
       "       ...\n",
       "       '9129622425', '950491036X', '9580464162', '9722015184', '9722020609',\n",
       "       '9726101794', '9726106141', '9727722458', '9770390107900',\n",
       "       '9871138148'],\n",
       "      dtype='object', name='ISBN', length=10592)"
      ]
     },
     "execution_count": 422,
     "metadata": {},
     "output_type": "execute_result"
    }
   ],
   "source": [
    "user_item_mat.columns"
   ]
  },
  {
   "cell_type": "code",
   "execution_count": 423,
   "metadata": {},
   "outputs": [],
   "source": []
  },
  {
   "cell_type": "code",
   "execution_count": 519,
   "metadata": {},
   "outputs": [
    {
     "data": {
      "text/html": [
       "<div>\n",
       "<style scoped>\n",
       "    .dataframe tbody tr th:only-of-type {\n",
       "        vertical-align: middle;\n",
       "    }\n",
       "\n",
       "    .dataframe tbody tr th {\n",
       "        vertical-align: top;\n",
       "    }\n",
       "\n",
       "    .dataframe thead th {\n",
       "        text-align: right;\n",
       "    }\n",
       "</style>\n",
       "<table border=\"1\" class=\"dataframe\">\n",
       "  <thead>\n",
       "    <tr style=\"text-align: right;\">\n",
       "      <th></th>\n",
       "      <th>dim0</th>\n",
       "      <th>dim1</th>\n",
       "      <th>dim2</th>\n",
       "      <th>dim3</th>\n",
       "      <th>dim4</th>\n",
       "      <th>dim5</th>\n",
       "      <th>dim6</th>\n",
       "      <th>dim7</th>\n",
       "      <th>dim8</th>\n",
       "      <th>dim9</th>\n",
       "      <th>...</th>\n",
       "      <th>dim790</th>\n",
       "      <th>dim791</th>\n",
       "      <th>dim792</th>\n",
       "      <th>dim793</th>\n",
       "      <th>dim794</th>\n",
       "      <th>dim795</th>\n",
       "      <th>dim796</th>\n",
       "      <th>dim797</th>\n",
       "      <th>dim798</th>\n",
       "      <th>dim799</th>\n",
       "    </tr>\n",
       "  </thead>\n",
       "  <tbody>\n",
       "    <tr>\n",
       "      <th>8</th>\n",
       "      <td>-0.000014</td>\n",
       "      <td>-0.000035</td>\n",
       "      <td>0.000002</td>\n",
       "      <td>-0.000007</td>\n",
       "      <td>0.000002</td>\n",
       "      <td>-0.000038</td>\n",
       "      <td>0.000005</td>\n",
       "      <td>-0.000049</td>\n",
       "      <td>0.000021</td>\n",
       "      <td>-0.000010</td>\n",
       "      <td>...</td>\n",
       "      <td>-0.000764</td>\n",
       "      <td>-0.000095</td>\n",
       "      <td>0.000479</td>\n",
       "      <td>-0.000095</td>\n",
       "      <td>-0.000064</td>\n",
       "      <td>-0.000185</td>\n",
       "      <td>0.000139</td>\n",
       "      <td>0.000219</td>\n",
       "      <td>-0.000186</td>\n",
       "      <td>-0.000886</td>\n",
       "    </tr>\n",
       "    <tr>\n",
       "      <th>99</th>\n",
       "      <td>-0.000792</td>\n",
       "      <td>-0.000452</td>\n",
       "      <td>0.000216</td>\n",
       "      <td>-0.000141</td>\n",
       "      <td>-0.000980</td>\n",
       "      <td>0.000293</td>\n",
       "      <td>-0.000075</td>\n",
       "      <td>-0.001249</td>\n",
       "      <td>0.000422</td>\n",
       "      <td>0.000443</td>\n",
       "      <td>...</td>\n",
       "      <td>-0.001087</td>\n",
       "      <td>0.007844</td>\n",
       "      <td>0.000159</td>\n",
       "      <td>-0.008210</td>\n",
       "      <td>-0.003103</td>\n",
       "      <td>0.006708</td>\n",
       "      <td>-0.003821</td>\n",
       "      <td>-0.003671</td>\n",
       "      <td>0.003759</td>\n",
       "      <td>-0.001976</td>\n",
       "    </tr>\n",
       "    <tr>\n",
       "      <th>114</th>\n",
       "      <td>-0.003450</td>\n",
       "      <td>-0.001374</td>\n",
       "      <td>0.000886</td>\n",
       "      <td>0.001986</td>\n",
       "      <td>-0.003636</td>\n",
       "      <td>-0.001457</td>\n",
       "      <td>-0.001260</td>\n",
       "      <td>-0.012827</td>\n",
       "      <td>-0.007661</td>\n",
       "      <td>0.003153</td>\n",
       "      <td>...</td>\n",
       "      <td>0.007833</td>\n",
       "      <td>0.004888</td>\n",
       "      <td>-0.000896</td>\n",
       "      <td>0.009279</td>\n",
       "      <td>-0.005292</td>\n",
       "      <td>0.000662</td>\n",
       "      <td>-0.015110</td>\n",
       "      <td>0.007437</td>\n",
       "      <td>-0.009711</td>\n",
       "      <td>-0.007336</td>\n",
       "    </tr>\n",
       "    <tr>\n",
       "      <th>232</th>\n",
       "      <td>-0.000120</td>\n",
       "      <td>-0.000051</td>\n",
       "      <td>-0.000092</td>\n",
       "      <td>0.000067</td>\n",
       "      <td>0.000114</td>\n",
       "      <td>-0.000109</td>\n",
       "      <td>0.000153</td>\n",
       "      <td>0.000028</td>\n",
       "      <td>0.000337</td>\n",
       "      <td>-0.000288</td>\n",
       "      <td>...</td>\n",
       "      <td>0.001815</td>\n",
       "      <td>-0.001885</td>\n",
       "      <td>-0.000608</td>\n",
       "      <td>0.000904</td>\n",
       "      <td>0.003023</td>\n",
       "      <td>-0.000767</td>\n",
       "      <td>0.002568</td>\n",
       "      <td>-0.004546</td>\n",
       "      <td>-0.000963</td>\n",
       "      <td>-0.001896</td>\n",
       "    </tr>\n",
       "    <tr>\n",
       "      <th>242</th>\n",
       "      <td>-0.000483</td>\n",
       "      <td>-0.000167</td>\n",
       "      <td>-0.000559</td>\n",
       "      <td>0.001553</td>\n",
       "      <td>-0.000649</td>\n",
       "      <td>0.000061</td>\n",
       "      <td>0.001277</td>\n",
       "      <td>0.000461</td>\n",
       "      <td>0.000865</td>\n",
       "      <td>-0.000963</td>\n",
       "      <td>...</td>\n",
       "      <td>-0.007810</td>\n",
       "      <td>-0.004822</td>\n",
       "      <td>-0.003763</td>\n",
       "      <td>-0.002497</td>\n",
       "      <td>0.000706</td>\n",
       "      <td>-0.001220</td>\n",
       "      <td>-0.000327</td>\n",
       "      <td>0.004795</td>\n",
       "      <td>-0.000170</td>\n",
       "      <td>-0.001722</td>\n",
       "    </tr>\n",
       "  </tbody>\n",
       "</table>\n",
       "<p>5 rows × 800 columns</p>\n",
       "</div>"
      ],
      "text/plain": [
       "         dim0      dim1      dim2      dim3      dim4      dim5      dim6  \\\n",
       "8   -0.000014 -0.000035  0.000002 -0.000007  0.000002 -0.000038  0.000005   \n",
       "99  -0.000792 -0.000452  0.000216 -0.000141 -0.000980  0.000293 -0.000075   \n",
       "114 -0.003450 -0.001374  0.000886  0.001986 -0.003636 -0.001457 -0.001260   \n",
       "232 -0.000120 -0.000051 -0.000092  0.000067  0.000114 -0.000109  0.000153   \n",
       "242 -0.000483 -0.000167 -0.000559  0.001553 -0.000649  0.000061  0.001277   \n",
       "\n",
       "         dim7      dim8      dim9  ...    dim790    dim791    dim792  \\\n",
       "8   -0.000049  0.000021 -0.000010  ... -0.000764 -0.000095  0.000479   \n",
       "99  -0.001249  0.000422  0.000443  ... -0.001087  0.007844  0.000159   \n",
       "114 -0.012827 -0.007661  0.003153  ...  0.007833  0.004888 -0.000896   \n",
       "232  0.000028  0.000337 -0.000288  ...  0.001815 -0.001885 -0.000608   \n",
       "242  0.000461  0.000865 -0.000963  ... -0.007810 -0.004822 -0.003763   \n",
       "\n",
       "       dim793    dim794    dim795    dim796    dim797    dim798    dim799  \n",
       "8   -0.000095 -0.000064 -0.000185  0.000139  0.000219 -0.000186 -0.000886  \n",
       "99  -0.008210 -0.003103  0.006708 -0.003821 -0.003671  0.003759 -0.001976  \n",
       "114  0.009279 -0.005292  0.000662 -0.015110  0.007437 -0.009711 -0.007336  \n",
       "232  0.000904  0.003023 -0.000767  0.002568 -0.004546 -0.000963 -0.001896  \n",
       "242 -0.002497  0.000706 -0.001220 -0.000327  0.004795 -0.000170 -0.001722  \n",
       "\n",
       "[5 rows x 800 columns]"
      ]
     },
     "execution_count": 519,
     "metadata": {},
     "output_type": "execute_result"
    }
   ],
   "source": [
    "# U: USER-NEW DIMENSION MATRIX \n",
    "\n",
    "pd.DataFrame(U, columns=dimension_names, index=user_ids).head()"
   ]
  },
  {
   "cell_type": "code",
   "execution_count": null,
   "metadata": {},
   "outputs": [],
   "source": []
  },
  {
   "cell_type": "code",
   "execution_count": 520,
   "metadata": {},
   "outputs": [
    {
     "data": {
      "text/html": [
       "<div>\n",
       "<style scoped>\n",
       "    .dataframe tbody tr th:only-of-type {\n",
       "        vertical-align: middle;\n",
       "    }\n",
       "\n",
       "    .dataframe tbody tr th {\n",
       "        vertical-align: top;\n",
       "    }\n",
       "\n",
       "    .dataframe thead th {\n",
       "        text-align: right;\n",
       "    }\n",
       "</style>\n",
       "<table border=\"1\" class=\"dataframe\">\n",
       "  <thead>\n",
       "    <tr style=\"text-align: right;\">\n",
       "      <th></th>\n",
       "      <th>dim0</th>\n",
       "      <th>dim1</th>\n",
       "      <th>dim2</th>\n",
       "      <th>dim3</th>\n",
       "      <th>dim4</th>\n",
       "      <th>dim5</th>\n",
       "      <th>dim6</th>\n",
       "      <th>dim7</th>\n",
       "      <th>dim8</th>\n",
       "      <th>dim9</th>\n",
       "      <th>...</th>\n",
       "      <th>dim790</th>\n",
       "      <th>dim791</th>\n",
       "      <th>dim792</th>\n",
       "      <th>dim793</th>\n",
       "      <th>dim794</th>\n",
       "      <th>dim795</th>\n",
       "      <th>dim796</th>\n",
       "      <th>dim797</th>\n",
       "      <th>dim798</th>\n",
       "      <th>dim799</th>\n",
       "    </tr>\n",
       "  </thead>\n",
       "  <tbody>\n",
       "    <tr>\n",
       "      <th>(0, 0002005018)</th>\n",
       "      <td>-0.000840</td>\n",
       "      <td>-0.001390</td>\n",
       "      <td>0.000089</td>\n",
       "      <td>-0.000251</td>\n",
       "      <td>0.000085</td>\n",
       "      <td>-0.001256</td>\n",
       "      <td>0.000171</td>\n",
       "      <td>-0.001611</td>\n",
       "      <td>0.000668</td>\n",
       "      <td>-0.000323</td>\n",
       "      <td>...</td>\n",
       "      <td>-0.007790</td>\n",
       "      <td>-0.000964</td>\n",
       "      <td>0.004874</td>\n",
       "      <td>-0.000968</td>\n",
       "      <td>-0.000654</td>\n",
       "      <td>-0.001880</td>\n",
       "      <td>0.001414</td>\n",
       "      <td>0.002221</td>\n",
       "      <td>-0.001883</td>\n",
       "      <td>-0.008981</td>\n",
       "    </tr>\n",
       "    <tr>\n",
       "      <th>(1, 0002251760)</th>\n",
       "      <td>-0.004253</td>\n",
       "      <td>0.000429</td>\n",
       "      <td>-0.003097</td>\n",
       "      <td>-0.004374</td>\n",
       "      <td>-0.002508</td>\n",
       "      <td>-0.005010</td>\n",
       "      <td>0.008250</td>\n",
       "      <td>-0.002108</td>\n",
       "      <td>-0.001782</td>\n",
       "      <td>-0.002623</td>\n",
       "      <td>...</td>\n",
       "      <td>0.011674</td>\n",
       "      <td>-0.016628</td>\n",
       "      <td>0.009088</td>\n",
       "      <td>0.005035</td>\n",
       "      <td>-0.005703</td>\n",
       "      <td>0.010148</td>\n",
       "      <td>-0.000265</td>\n",
       "      <td>0.009064</td>\n",
       "      <td>0.013356</td>\n",
       "      <td>-0.011004</td>\n",
       "    </tr>\n",
       "    <tr>\n",
       "      <th>(2, 0002259001)</th>\n",
       "      <td>-0.001576</td>\n",
       "      <td>-0.001635</td>\n",
       "      <td>0.000212</td>\n",
       "      <td>0.000418</td>\n",
       "      <td>0.002296</td>\n",
       "      <td>-0.000260</td>\n",
       "      <td>0.001310</td>\n",
       "      <td>-0.001610</td>\n",
       "      <td>0.001257</td>\n",
       "      <td>0.000058</td>\n",
       "      <td>...</td>\n",
       "      <td>0.004324</td>\n",
       "      <td>-0.004541</td>\n",
       "      <td>0.000044</td>\n",
       "      <td>-0.006536</td>\n",
       "      <td>-0.000494</td>\n",
       "      <td>0.002241</td>\n",
       "      <td>0.004077</td>\n",
       "      <td>-0.009403</td>\n",
       "      <td>0.005990</td>\n",
       "      <td>-0.010427</td>\n",
       "    </tr>\n",
       "    <tr>\n",
       "      <th>(3, 0003300277)</th>\n",
       "      <td>-0.001166</td>\n",
       "      <td>-0.000653</td>\n",
       "      <td>-0.000477</td>\n",
       "      <td>0.001356</td>\n",
       "      <td>-0.002641</td>\n",
       "      <td>-0.001863</td>\n",
       "      <td>-0.001398</td>\n",
       "      <td>-0.004358</td>\n",
       "      <td>-0.000559</td>\n",
       "      <td>-0.000583</td>\n",
       "      <td>...</td>\n",
       "      <td>-0.012720</td>\n",
       "      <td>-0.001532</td>\n",
       "      <td>0.001059</td>\n",
       "      <td>-0.015002</td>\n",
       "      <td>0.002171</td>\n",
       "      <td>0.010039</td>\n",
       "      <td>0.005386</td>\n",
       "      <td>0.006151</td>\n",
       "      <td>0.004466</td>\n",
       "      <td>0.001367</td>\n",
       "    </tr>\n",
       "    <tr>\n",
       "      <th>(4, 0006374921)</th>\n",
       "      <td>-0.000173</td>\n",
       "      <td>-0.000100</td>\n",
       "      <td>-0.000029</td>\n",
       "      <td>-0.000123</td>\n",
       "      <td>-0.000088</td>\n",
       "      <td>-0.000138</td>\n",
       "      <td>0.000343</td>\n",
       "      <td>-0.000687</td>\n",
       "      <td>0.000024</td>\n",
       "      <td>-0.000127</td>\n",
       "      <td>...</td>\n",
       "      <td>-0.001512</td>\n",
       "      <td>-0.000940</td>\n",
       "      <td>0.001538</td>\n",
       "      <td>-0.000054</td>\n",
       "      <td>0.002744</td>\n",
       "      <td>0.003748</td>\n",
       "      <td>0.001008</td>\n",
       "      <td>0.001800</td>\n",
       "      <td>-0.000637</td>\n",
       "      <td>0.001425</td>\n",
       "    </tr>\n",
       "  </tbody>\n",
       "</table>\n",
       "<p>5 rows × 800 columns</p>\n",
       "</div>"
      ],
      "text/plain": [
       "                     dim0      dim1      dim2      dim3      dim4      dim5  \\\n",
       "(0, 0002005018) -0.000840 -0.001390  0.000089 -0.000251  0.000085 -0.001256   \n",
       "(1, 0002251760) -0.004253  0.000429 -0.003097 -0.004374 -0.002508 -0.005010   \n",
       "(2, 0002259001) -0.001576 -0.001635  0.000212  0.000418  0.002296 -0.000260   \n",
       "(3, 0003300277) -0.001166 -0.000653 -0.000477  0.001356 -0.002641 -0.001863   \n",
       "(4, 0006374921) -0.000173 -0.000100 -0.000029 -0.000123 -0.000088 -0.000138   \n",
       "\n",
       "                     dim6      dim7      dim8      dim9  ...    dim790  \\\n",
       "(0, 0002005018)  0.000171 -0.001611  0.000668 -0.000323  ... -0.007790   \n",
       "(1, 0002251760)  0.008250 -0.002108 -0.001782 -0.002623  ...  0.011674   \n",
       "(2, 0002259001)  0.001310 -0.001610  0.001257  0.000058  ...  0.004324   \n",
       "(3, 0003300277) -0.001398 -0.004358 -0.000559 -0.000583  ... -0.012720   \n",
       "(4, 0006374921)  0.000343 -0.000687  0.000024 -0.000127  ... -0.001512   \n",
       "\n",
       "                   dim791    dim792    dim793    dim794    dim795    dim796  \\\n",
       "(0, 0002005018) -0.000964  0.004874 -0.000968 -0.000654 -0.001880  0.001414   \n",
       "(1, 0002251760) -0.016628  0.009088  0.005035 -0.005703  0.010148 -0.000265   \n",
       "(2, 0002259001) -0.004541  0.000044 -0.006536 -0.000494  0.002241  0.004077   \n",
       "(3, 0003300277) -0.001532  0.001059 -0.015002  0.002171  0.010039  0.005386   \n",
       "(4, 0006374921) -0.000940  0.001538 -0.000054  0.002744  0.003748  0.001008   \n",
       "\n",
       "                   dim797    dim798    dim799  \n",
       "(0, 0002005018)  0.002221 -0.001883 -0.008981  \n",
       "(1, 0002251760)  0.009064  0.013356 -0.011004  \n",
       "(2, 0002259001) -0.009403  0.005990 -0.010427  \n",
       "(3, 0003300277)  0.006151  0.004466  0.001367  \n",
       "(4, 0006374921)  0.001800 -0.000637  0.001425  \n",
       "\n",
       "[5 rows x 800 columns]"
      ]
     },
     "execution_count": 520,
     "metadata": {},
     "output_type": "execute_result"
    }
   ],
   "source": [
    "# VT.T ITEM-NEW DIMENSION MATRIX \n",
    "# transpose to put items as rows\n",
    "\n",
    "pd.DataFrame(VT.T, columns=dimension_names, index=ISBNs).head()"
   ]
  },
  {
   "cell_type": "code",
   "execution_count": 521,
   "metadata": {},
   "outputs": [
    {
     "data": {
      "text/html": [
       "<div>\n",
       "<style scoped>\n",
       "    .dataframe tbody tr th:only-of-type {\n",
       "        vertical-align: middle;\n",
       "    }\n",
       "\n",
       "    .dataframe tbody tr th {\n",
       "        vertical-align: top;\n",
       "    }\n",
       "\n",
       "    .dataframe thead th {\n",
       "        text-align: right;\n",
       "    }\n",
       "</style>\n",
       "<table border=\"1\" class=\"dataframe\">\n",
       "  <thead>\n",
       "    <tr style=\"text-align: right;\">\n",
       "      <th></th>\n",
       "      <th>userID</th>\n",
       "      <th>ISBN</th>\n",
       "      <th>bookRating</th>\n",
       "    </tr>\n",
       "  </thead>\n",
       "  <tbody>\n",
       "    <tr>\n",
       "      <th>0</th>\n",
       "      <td>276747</td>\n",
       "      <td>0060517794</td>\n",
       "      <td>9</td>\n",
       "    </tr>\n",
       "    <tr>\n",
       "      <th>1</th>\n",
       "      <td>276747</td>\n",
       "      <td>0671537458</td>\n",
       "      <td>9</td>\n",
       "    </tr>\n",
       "    <tr>\n",
       "      <th>2</th>\n",
       "      <td>276747</td>\n",
       "      <td>0679776818</td>\n",
       "      <td>8</td>\n",
       "    </tr>\n",
       "    <tr>\n",
       "      <th>3</th>\n",
       "      <td>276822</td>\n",
       "      <td>0060096195</td>\n",
       "      <td>10</td>\n",
       "    </tr>\n",
       "    <tr>\n",
       "      <th>4</th>\n",
       "      <td>276822</td>\n",
       "      <td>0375821813</td>\n",
       "      <td>9</td>\n",
       "    </tr>\n",
       "    <tr>\n",
       "      <th>...</th>\n",
       "      <td>...</td>\n",
       "      <td>...</td>\n",
       "      <td>...</td>\n",
       "    </tr>\n",
       "    <tr>\n",
       "      <th>134294</th>\n",
       "      <td>276688</td>\n",
       "      <td>0743202694</td>\n",
       "      <td>10</td>\n",
       "    </tr>\n",
       "    <tr>\n",
       "      <th>134295</th>\n",
       "      <td>276688</td>\n",
       "      <td>0836218655</td>\n",
       "      <td>10</td>\n",
       "    </tr>\n",
       "    <tr>\n",
       "      <th>134296</th>\n",
       "      <td>276688</td>\n",
       "      <td>0836236688</td>\n",
       "      <td>10</td>\n",
       "    </tr>\n",
       "    <tr>\n",
       "      <th>134297</th>\n",
       "      <td>276704</td>\n",
       "      <td>0345386108</td>\n",
       "      <td>6</td>\n",
       "    </tr>\n",
       "    <tr>\n",
       "      <th>134298</th>\n",
       "      <td>276704</td>\n",
       "      <td>0743211383</td>\n",
       "      <td>7</td>\n",
       "    </tr>\n",
       "  </tbody>\n",
       "</table>\n",
       "<p>134299 rows × 3 columns</p>\n",
       "</div>"
      ],
      "text/plain": [
       "        userID        ISBN  bookRating\n",
       "0       276747  0060517794           9\n",
       "1       276747  0671537458           9\n",
       "2       276747  0679776818           8\n",
       "3       276822  0060096195          10\n",
       "4       276822  0375821813           9\n",
       "...        ...         ...         ...\n",
       "134294  276688  0743202694          10\n",
       "134295  276688  0836218655          10\n",
       "134296  276688  0836236688          10\n",
       "134297  276704  0345386108           6\n",
       "134298  276704  0743211383           7\n",
       "\n",
       "[134299 rows x 3 columns]"
      ]
     },
     "execution_count": 521,
     "metadata": {},
     "output_type": "execute_result"
    }
   ],
   "source": [
    "ratings"
   ]
  },
  {
   "cell_type": "code",
   "execution_count": 435,
   "metadata": {},
   "outputs": [
    {
     "data": {
      "text/plain": [
       "Index(['0002005018', '0002251760', '0002259001', '0003300277', '0006374921',\n",
       "       '0006480764', '000648302X', '0006485014', '0006485200', '0006493580',\n",
       "       ...\n",
       "       '9129622425', '950491036X', '9580464162', '9722015184', '9722020609',\n",
       "       '9726101794', '9726106141', '9727722458', '9770390107900',\n",
       "       '9871138148'],\n",
       "      dtype='object', name='ISBN', length=10592)"
      ]
     },
     "execution_count": 435,
     "metadata": {},
     "output_type": "execute_result"
    }
   ],
   "source": [
    "ISBNs"
   ]
  },
  {
   "cell_type": "code",
   "execution_count": 427,
   "metadata": {},
   "outputs": [],
   "source": [
    "def drop_none(list_):\n",
    "    return [x for x in list_ if x]"
   ]
  },
  {
   "cell_type": "code",
   "execution_count": 436,
   "metadata": {},
   "outputs": [
    {
     "data": {
      "text/html": [
       "<div>\n",
       "<style scoped>\n",
       "    .dataframe tbody tr th:only-of-type {\n",
       "        vertical-align: middle;\n",
       "    }\n",
       "\n",
       "    .dataframe tbody tr th {\n",
       "        vertical-align: top;\n",
       "    }\n",
       "\n",
       "    .dataframe thead th {\n",
       "        text-align: right;\n",
       "    }\n",
       "</style>\n",
       "<table border=\"1\" class=\"dataframe\">\n",
       "  <thead>\n",
       "    <tr style=\"text-align: right;\">\n",
       "      <th></th>\n",
       "      <th>Unnamed: 0</th>\n",
       "      <th>ISBN</th>\n",
       "    </tr>\n",
       "  </thead>\n",
       "  <tbody>\n",
       "    <tr>\n",
       "      <th>0</th>\n",
       "      <td>0</td>\n",
       "      <td>0002005018</td>\n",
       "    </tr>\n",
       "    <tr>\n",
       "      <th>1</th>\n",
       "      <td>1</td>\n",
       "      <td>0002251760</td>\n",
       "    </tr>\n",
       "    <tr>\n",
       "      <th>2</th>\n",
       "      <td>2</td>\n",
       "      <td>0002259001</td>\n",
       "    </tr>\n",
       "    <tr>\n",
       "      <th>3</th>\n",
       "      <td>3</td>\n",
       "      <td>0003300277</td>\n",
       "    </tr>\n",
       "    <tr>\n",
       "      <th>4</th>\n",
       "      <td>4</td>\n",
       "      <td>0006374921</td>\n",
       "    </tr>\n",
       "    <tr>\n",
       "      <th>...</th>\n",
       "      <td>...</td>\n",
       "      <td>...</td>\n",
       "    </tr>\n",
       "    <tr>\n",
       "      <th>10587</th>\n",
       "      <td>10587</td>\n",
       "      <td>9726101794</td>\n",
       "    </tr>\n",
       "    <tr>\n",
       "      <th>10588</th>\n",
       "      <td>10588</td>\n",
       "      <td>9726106141</td>\n",
       "    </tr>\n",
       "    <tr>\n",
       "      <th>10589</th>\n",
       "      <td>10589</td>\n",
       "      <td>9727722458</td>\n",
       "    </tr>\n",
       "    <tr>\n",
       "      <th>10590</th>\n",
       "      <td>10590</td>\n",
       "      <td>9770390107900</td>\n",
       "    </tr>\n",
       "    <tr>\n",
       "      <th>10591</th>\n",
       "      <td>10591</td>\n",
       "      <td>9871138148</td>\n",
       "    </tr>\n",
       "  </tbody>\n",
       "</table>\n",
       "<p>10592 rows × 2 columns</p>\n",
       "</div>"
      ],
      "text/plain": [
       "       Unnamed: 0           ISBN\n",
       "0               0     0002005018\n",
       "1               1     0002251760\n",
       "2               2     0002259001\n",
       "3               3     0003300277\n",
       "4               4     0006374921\n",
       "...           ...            ...\n",
       "10587       10587     9726101794\n",
       "10588       10588     9726106141\n",
       "10589       10589     9727722458\n",
       "10590       10590  9770390107900\n",
       "10591       10591     9871138148\n",
       "\n",
       "[10592 rows x 2 columns]"
      ]
     },
     "execution_count": 436,
     "metadata": {},
     "output_type": "execute_result"
    }
   ],
   "source": [
    "ISBNs = pd.read_csv('data/ISBNs.csv')\n",
    "ISBNs"
   ]
  },
  {
   "cell_type": "code",
   "execution_count": 478,
   "metadata": {},
   "outputs": [
    {
     "name": "stdout",
     "output_type": "stream",
     "text": [
      "6488\n"
     ]
    },
    {
     "data": {
      "text/plain": [
       "['0553377884', '0679785892']"
      ]
     },
     "execution_count": 478,
     "metadata": {},
     "output_type": "execute_result"
    }
   ],
   "source": [
    "def get_recommends(ISBN_val, VT=VT, num_recom=1, ISBNs=ISBNs):\n",
    "    '''\n",
    "    Takes book ISBN value and returns n recommended book ISBNs\n",
    "    \n",
    "    ISBN_val:\n",
    "        str, ISBN numbers of books to base recommendations off of\n",
    "    \n",
    "    VT:\n",
    "        matrix, product-feature matrix generated from SVD\n",
    "    \n",
    "    num_recom:\n",
    "        int, number or recs to return\n",
    "    \n",
    "    ISBNs:\n",
    "        object, list of columns from user-item matrix \n",
    "        aka user_item_mat.columns\n",
    "    '''\n",
    "    recs = []\n",
    "\n",
    "    if ISBN_val is None:\n",
    "        pass\n",
    "\n",
    "    elif ISBN_val in ISBNs.ISBN.to_list():\n",
    "        # converts ISBN to index\n",
    "        itemID = ISBNs[ISBNs.ISBN.isin([ISBN_val])].index[0] # converts ISBN to index\n",
    "        print(itemID)\n",
    "        for item in range(VT.T.shape[0]):\n",
    "            if item != itemID:\n",
    "                recs.append([item, np.dot(VT.T[itemID], VT.T[item])])\n",
    "\n",
    "        final_rec_index = [i[0] for i in sorted(recs, key=lambda x: x[1], reverse=True)]\n",
    "        final_rec_isbn = [ISBNs.ISBN.iloc[i] for i in final_rec_index] # takes index and returns ISBN of book\n",
    "        final = drop_none(final_rec_isbn[:num_recom])\n",
    "\n",
    "        return final\n",
    "\n",
    "    else:\n",
    "        print('{} not in recommendation matrix'.format(ISBN_val))\n",
    "\n",
    "get_recommends('0553275860', num_recom=2)"
   ]
  },
  {
   "cell_type": "code",
   "execution_count": 466,
   "metadata": {},
   "outputs": [
    {
     "data": {
      "text/plain": [
       "Unnamed: 0          6630\n",
       "ISBN          0553377884\n",
       "Name: 6630, dtype: object"
      ]
     },
     "execution_count": 466,
     "metadata": {},
     "output_type": "execute_result"
    }
   ],
   "source": [
    "ISBNs.iloc[6630]"
   ]
  },
  {
   "cell_type": "code",
   "execution_count": 463,
   "metadata": {},
   "outputs": [
    {
     "data": {
      "text/plain": [
       "10033"
      ]
     },
     "execution_count": 463,
     "metadata": {},
     "output_type": "execute_result"
    }
   ],
   "source": [
    "ISBNs[ISBNs.ISBN.isin(['1573220876'])].index[0]\n"
   ]
  },
  {
   "cell_type": "code",
   "execution_count": 397,
   "metadata": {},
   "outputs": [
    {
     "data": {
      "text/plain": [
       "10592"
      ]
     },
     "execution_count": 397,
     "metadata": {},
     "output_type": "execute_result"
    }
   ],
   "source": [
    "VT.T.shape[0]"
   ]
  },
  {
   "cell_type": "code",
   "execution_count": 589,
   "metadata": {},
   "outputs": [
    {
     "name": "stdout",
     "output_type": "stream",
     "text": [
      "1573220418 not in recommendation matrix\n",
      "389\n",
      "6488\n",
      "0394702239 not in recommendation matrix\n"
     ]
    },
    {
     "data": {
      "text/plain": [
       "(['0671787551', '1400077354', '0749316780', '0394178009'],\n",
       " ['0060974486', '0553275860'])"
      ]
     },
     "execution_count": 589,
     "metadata": {},
     "output_type": "execute_result"
    }
   ],
   "source": [
    "def get_recommends_list(ISBN_list, VT=VT, n=1, ISBNs=ISBNs):\n",
    "    '''\n",
    "    takes list of ISBNs and returns recommendations and ISBNs of books used as basis for those recs\n",
    "    ------------------------------------------------\n",
    "    ISBN_list:\n",
    "        list, ISBN numbers of books to base recommendations off of\n",
    "    \n",
    "    VT:\n",
    "        matrix, product-feature matrix generated from SVD\n",
    "    \n",
    "    n:\n",
    "        int, number or recs to return for each ISBN\n",
    "    \n",
    "    ISBNs:\n",
    "        object, list of columns from user-item matrix \n",
    "        aka user_item_mat.columns\n",
    "    '''\n",
    "    \n",
    "    recs = []\n",
    "    basis = []\n",
    "    \n",
    "    for ISBN_val in ISBN_list:\n",
    "        \n",
    "        rec = get_recommends(ISBN_val, VT, num_recom=n, ISBNs=ISBNs)\n",
    "        if rec:\n",
    "            recs.append(rec)\n",
    "            basis.append(ISBN_val)\n",
    "    flat_recs = [i for sub in recs for i in sub]\n",
    "    \n",
    "    return flat_recs, basis\n",
    "\n",
    "get_recommends_list([None, '1573220418', None, '0060974486', None, '0553275860', '0394702239'], n=2)"
   ]
  },
  {
   "cell_type": "code",
   "execution_count": 592,
   "metadata": {},
   "outputs": [
    {
     "name": "stdout",
     "output_type": "stream",
     "text": [
      "2583\n"
     ]
    },
    {
     "data": {
      "text/plain": [
       "'narcissus and goldmund hermann hesse'"
      ]
     },
     "execution_count": 592,
     "metadata": {},
     "output_type": "execute_result"
    }
   ],
   "source": [
    "ISBN_to_title('0553275860')"
   ]
  },
  {
   "cell_type": "code",
   "execution_count": 356,
   "metadata": {},
   "outputs": [
    {
     "data": {
      "text/plain": [
       "['0061062332', '0373821697', '0679435050', '0385411596', '0375509194']"
      ]
     },
     "execution_count": 356,
     "metadata": {},
     "output_type": "execute_result"
    }
   ],
   "source": [
    "sample_isbns"
   ]
  },
  {
   "cell_type": "code",
   "execution_count": 459,
   "metadata": {},
   "outputs": [
    {
     "data": {
      "text/html": [
       "<div>\n",
       "<style scoped>\n",
       "    .dataframe tbody tr th:only-of-type {\n",
       "        vertical-align: middle;\n",
       "    }\n",
       "\n",
       "    .dataframe tbody tr th {\n",
       "        vertical-align: top;\n",
       "    }\n",
       "\n",
       "    .dataframe thead th {\n",
       "        text-align: right;\n",
       "    }\n",
       "</style>\n",
       "<table border=\"1\" class=\"dataframe\">\n",
       "  <thead>\n",
       "    <tr style=\"text-align: right;\">\n",
       "      <th></th>\n",
       "      <th>ISBN</th>\n",
       "      <th>bookTitle</th>\n",
       "      <th>bookAuthor</th>\n",
       "      <th>yearOfPublication</th>\n",
       "      <th>publisher</th>\n",
       "      <th>imageUrlS</th>\n",
       "      <th>imageUrlM</th>\n",
       "      <th>imageUrlL</th>\n",
       "      <th>title_author</th>\n",
       "    </tr>\n",
       "  </thead>\n",
       "  <tbody>\n",
       "    <tr>\n",
       "      <th>142278</th>\n",
       "      <td>0679435050</td>\n",
       "      <td>Cleopatra's Nose: Essays on the Unexpected</td>\n",
       "      <td>Daniel J. Boorstin</td>\n",
       "      <td>1994</td>\n",
       "      <td>Random House</td>\n",
       "      <td>http://images.amazon.com/images/P/0679435050.0...</td>\n",
       "      <td>http://images.amazon.com/images/P/0679435050.0...</td>\n",
       "      <td>http://images.amazon.com/images/P/0679435050.0...</td>\n",
       "      <td>cleopatras nose essays on the unexpected danie...</td>\n",
       "    </tr>\n",
       "  </tbody>\n",
       "</table>\n",
       "</div>"
      ],
      "text/plain": [
       "              ISBN                                   bookTitle  \\\n",
       "142278  0679435050  Cleopatra's Nose: Essays on the Unexpected   \n",
       "\n",
       "                bookAuthor  yearOfPublication     publisher  \\\n",
       "142278  Daniel J. Boorstin               1994  Random House   \n",
       "\n",
       "                                                imageUrlS  \\\n",
       "142278  http://images.amazon.com/images/P/0679435050.0...   \n",
       "\n",
       "                                                imageUrlM  \\\n",
       "142278  http://images.amazon.com/images/P/0679435050.0...   \n",
       "\n",
       "                                                imageUrlL  \\\n",
       "142278  http://images.amazon.com/images/P/0679435050.0...   \n",
       "\n",
       "                                             title_author  \n",
       "142278  cleopatras nose essays on the unexpected danie...  "
      ]
     },
     "execution_count": 459,
     "metadata": {},
     "output_type": "execute_result"
    }
   ],
   "source": [
    "books_all[books_all.ISBN=='0679435050']"
   ]
  },
  {
   "cell_type": "code",
   "execution_count": 358,
   "metadata": {},
   "outputs": [
    {
     "name": "stdout",
     "output_type": "stream",
     "text": [
      "['ocean city reunion ocean city no  katherine applegate', 'in from the rain gina wilkins', 'cleopatras nose essays on the unexpected daniel j boorstin', 'mother earth father sky sue harrison', 'shedding years  growing older feeling younger phyllis greene']\n",
      "0061062332 not in recommendation matrix\n",
      "0373821697 not in recommendation matrix\n",
      "0679435050 not in recommendation matrix\n",
      "0385411596 not in recommendation matrix\n",
      "0375509194 not in recommendation matrix\n"
     ]
    },
    {
     "data": {
      "text/plain": [
       "[None, None, None, None, None]"
      ]
     },
     "execution_count": 358,
     "metadata": {},
     "output_type": "execute_result"
    }
   ],
   "source": [
    "print([ISBN_to_title(x) for x in sample_isbns])\n",
    "\n",
    "[get_recommends(x, VT) for x in sample_isbns]"
   ]
  },
  {
   "cell_type": "code",
   "execution_count": 359,
   "metadata": {},
   "outputs": [
    {
     "data": {
      "text/plain": [
       "'pandora a novel sylvia fraser'"
      ]
     },
     "execution_count": 359,
     "metadata": {},
     "output_type": "execute_result"
    }
   ],
   "source": [
    "ISBN_to_title('0316292168')"
   ]
  },
  {
   "cell_type": "code",
   "execution_count": 360,
   "metadata": {},
   "outputs": [
    {
     "data": {
      "text/html": [
       "<div>\n",
       "<style scoped>\n",
       "    .dataframe tbody tr th:only-of-type {\n",
       "        vertical-align: middle;\n",
       "    }\n",
       "\n",
       "    .dataframe tbody tr th {\n",
       "        vertical-align: top;\n",
       "    }\n",
       "\n",
       "    .dataframe thead th {\n",
       "        text-align: right;\n",
       "    }\n",
       "</style>\n",
       "<table border=\"1\" class=\"dataframe\">\n",
       "  <thead>\n",
       "    <tr style=\"text-align: right;\">\n",
       "      <th></th>\n",
       "      <th>ISBN</th>\n",
       "      <th>bookTitle</th>\n",
       "      <th>bookAuthor</th>\n",
       "      <th>yearOfPublication</th>\n",
       "      <th>publisher</th>\n",
       "      <th>imageUrlS</th>\n",
       "      <th>imageUrlM</th>\n",
       "      <th>imageUrlL</th>\n",
       "      <th>title_author</th>\n",
       "    </tr>\n",
       "  </thead>\n",
       "  <tbody>\n",
       "    <tr>\n",
       "      <th>150316</th>\n",
       "      <td>0517052687</td>\n",
       "      <td>Yellow Brick Road (Wonderful Wizard of Oz Pop-...</td>\n",
       "      <td>L. Frank Baum</td>\n",
       "      <td>1991</td>\n",
       "      <td>Random House Value Publishing</td>\n",
       "      <td>http://images.amazon.com/images/P/0517052687.0...</td>\n",
       "      <td>http://images.amazon.com/images/P/0517052687.0...</td>\n",
       "      <td>http://images.amazon.com/images/P/0517052687.0...</td>\n",
       "      <td>yellow brick road wonderful wizard of oz popup...</td>\n",
       "    </tr>\n",
       "  </tbody>\n",
       "</table>\n",
       "</div>"
      ],
      "text/plain": [
       "              ISBN                                          bookTitle  \\\n",
       "150316  0517052687  Yellow Brick Road (Wonderful Wizard of Oz Pop-...   \n",
       "\n",
       "           bookAuthor  yearOfPublication                      publisher  \\\n",
       "150316  L. Frank Baum               1991  Random House Value Publishing   \n",
       "\n",
       "                                                imageUrlS  \\\n",
       "150316  http://images.amazon.com/images/P/0517052687.0...   \n",
       "\n",
       "                                                imageUrlM  \\\n",
       "150316  http://images.amazon.com/images/P/0517052687.0...   \n",
       "\n",
       "                                                imageUrlL  \\\n",
       "150316  http://images.amazon.com/images/P/0517052687.0...   \n",
       "\n",
       "                                             title_author  \n",
       "150316  yellow brick road wonderful wizard of oz popup...  "
      ]
     },
     "execution_count": 360,
     "metadata": {},
     "output_type": "execute_result"
    }
   ],
   "source": [
    "books_all[books_all.ISBN=='0517052687']"
   ]
  },
  {
   "cell_type": "markdown",
   "metadata": {},
   "source": [
    "## Testing SVD recommender on my books gathered using OCR"
   ]
  },
  {
   "cell_type": "code",
   "execution_count": 371,
   "metadata": {},
   "outputs": [],
   "source": [
    "# setting variable for books scraped using OCR in earlier notebooks\n",
    "\n",
    "test_books = [None, '1573220418', None, '0060974486', None, '0553275860', '0394702239']"
   ]
  },
  {
   "cell_type": "code",
   "execution_count": 372,
   "metadata": {
    "scrolled": true
   },
   "outputs": [
    {
     "data": {
      "text/plain": [
       "[None,\n",
       " 'drown junot diaz',\n",
       " None,\n",
       " 'immortality milan kundera',\n",
       " None,\n",
       " 'narcissus and goldmund hermann hesse',\n",
       " 'the fall  albert camus']"
      ]
     },
     "execution_count": 372,
     "metadata": {},
     "output_type": "execute_result"
    }
   ],
   "source": [
    "# showing what titles we are starting with \n",
    "\n",
    "[ISBN_to_title(book) for book in test_books] "
   ]
  },
  {
   "cell_type": "code",
   "execution_count": 390,
   "metadata": {},
   "outputs": [
    {
     "name": "stdout",
     "output_type": "stream",
     "text": [
      "1573220418 not in recommendation matrix\n",
      "0394702239 not in recommendation matrix\n"
     ]
    }
   ],
   "source": [
    "# getting recommendations and basis for those recs\n",
    "\n",
    "test_recs, test_basis = get_recommends_list(test_books, n=4) "
   ]
  },
  {
   "cell_type": "code",
   "execution_count": 391,
   "metadata": {},
   "outputs": [
    {
     "data": {
      "text/plain": [
       "['a year in provence peter mayle',\n",
       " 'about a boy nick hornby',\n",
       " 'atlas shrugged ayn rand',\n",
       " 'white teeth a novel zadie smith',\n",
       " 'skinny legs and all tom robbins',\n",
       " 'fear and loathing in las vegas  a savage journey to the heart of the american dream hunter s thompson',\n",
       " 'siddhartha hermann hesse',\n",
       " 'letters from the earth mark twain']"
      ]
     },
     "execution_count": 391,
     "metadata": {},
     "output_type": "execute_result"
    }
   ],
   "source": [
    "# recommendations \n",
    "\n",
    "[ISBN_to_title(x) for x in test_recs]"
   ]
  },
  {
   "cell_type": "code",
   "execution_count": 392,
   "metadata": {},
   "outputs": [
    {
     "data": {
      "text/plain": [
       "['immortality milan kundera', 'narcissus and goldmund hermann hesse']"
      ]
     },
     "execution_count": 392,
     "metadata": {},
     "output_type": "execute_result"
    }
   ],
   "source": [
    "# books used to generate recommendations \n",
    "\n",
    "[ISBN_to_title(x) for x in test_basis]"
   ]
  },
  {
   "cell_type": "code",
   "execution_count": 504,
   "metadata": {},
   "outputs": [
    {
     "name": "stdout",
     "output_type": "stream",
     "text": [
      "http://images.amazon.com/images/P/0002005018.01.LZZZZZZZ.jpg\n"
     ]
    }
   ],
   "source": [
    "for i in books_all[books_all.ISBN=='0002005018'].imageUrlL:\n",
    "    print(i)"
   ]
  },
  {
   "cell_type": "code",
   "execution_count": 497,
   "metadata": {},
   "outputs": [
    {
     "data": {
      "text/plain": [
       "150316    http://images.amazon.com/images/P/0517052687.0...\n",
       "Name: imageUrlS, dtype: object"
      ]
     },
     "execution_count": 497,
     "metadata": {},
     "output_type": "execute_result"
    }
   ],
   "source": [
    "books_all[books_all.ISBN=='0517052687'].imageUrlS"
   ]
  },
  {
   "cell_type": "code",
   "execution_count": 509,
   "metadata": {},
   "outputs": [],
   "source": []
  },
  {
   "cell_type": "code",
   "execution_count": 507,
   "metadata": {},
   "outputs": [
    {
     "data": {
      "text/html": [
       "<div>\n",
       "<style scoped>\n",
       "    .dataframe tbody tr th:only-of-type {\n",
       "        vertical-align: middle;\n",
       "    }\n",
       "\n",
       "    .dataframe tbody tr th {\n",
       "        vertical-align: top;\n",
       "    }\n",
       "\n",
       "    .dataframe thead th {\n",
       "        text-align: right;\n",
       "    }\n",
       "</style>\n",
       "<table border=\"1\" class=\"dataframe\">\n",
       "  <thead>\n",
       "    <tr style=\"text-align: right;\">\n",
       "      <th></th>\n",
       "      <th>ISBN</th>\n",
       "      <th>bookTitle</th>\n",
       "      <th>bookAuthor</th>\n",
       "      <th>yearOfPublication</th>\n",
       "      <th>publisher</th>\n",
       "      <th>imageUrlS</th>\n",
       "      <th>imageUrlM</th>\n",
       "      <th>imageUrlL</th>\n",
       "      <th>title_author</th>\n",
       "    </tr>\n",
       "  </thead>\n",
       "  <tbody>\n",
       "    <tr>\n",
       "      <th>0</th>\n",
       "      <td>0195153448</td>\n",
       "      <td>Classical Mythology</td>\n",
       "      <td>Mark P. O. Morford</td>\n",
       "      <td>2002</td>\n",
       "      <td>Oxford University Press</td>\n",
       "      <td>http://images.amazon.com/images/P/0195153448.0...</td>\n",
       "      <td>http://images.amazon.com/images/P/0195153448.0...</td>\n",
       "      <td>http://images.amazon.com/images/P/0195153448.0...</td>\n",
       "      <td>classical mythology mark p o morford</td>\n",
       "    </tr>\n",
       "    <tr>\n",
       "      <th>1</th>\n",
       "      <td>0002005018</td>\n",
       "      <td>Clara Callan</td>\n",
       "      <td>Richard Bruce Wright</td>\n",
       "      <td>2001</td>\n",
       "      <td>HarperFlamingo Canada</td>\n",
       "      <td>http://images.amazon.com/images/P/0002005018.0...</td>\n",
       "      <td>http://images.amazon.com/images/P/0002005018.0...</td>\n",
       "      <td>http://images.amazon.com/images/P/0002005018.0...</td>\n",
       "      <td>clara callan richard bruce wright</td>\n",
       "    </tr>\n",
       "    <tr>\n",
       "      <th>2</th>\n",
       "      <td>0060973129</td>\n",
       "      <td>Decision in Normandy</td>\n",
       "      <td>Carlo D'Este</td>\n",
       "      <td>1991</td>\n",
       "      <td>HarperPerennial</td>\n",
       "      <td>http://images.amazon.com/images/P/0060973129.0...</td>\n",
       "      <td>http://images.amazon.com/images/P/0060973129.0...</td>\n",
       "      <td>http://images.amazon.com/images/P/0060973129.0...</td>\n",
       "      <td>decision in normandy carlo deste</td>\n",
       "    </tr>\n",
       "    <tr>\n",
       "      <th>3</th>\n",
       "      <td>0374157065</td>\n",
       "      <td>Flu: The Story of the Great Influenza Pandemic...</td>\n",
       "      <td>Gina Bari Kolata</td>\n",
       "      <td>1999</td>\n",
       "      <td>Farrar Straus Giroux</td>\n",
       "      <td>http://images.amazon.com/images/P/0374157065.0...</td>\n",
       "      <td>http://images.amazon.com/images/P/0374157065.0...</td>\n",
       "      <td>http://images.amazon.com/images/P/0374157065.0...</td>\n",
       "      <td>flu the story of the great influenza pandemic ...</td>\n",
       "    </tr>\n",
       "    <tr>\n",
       "      <th>4</th>\n",
       "      <td>0393045218</td>\n",
       "      <td>The Mummies of Urumchi</td>\n",
       "      <td>E. J. W. Barber</td>\n",
       "      <td>1999</td>\n",
       "      <td>W. W. Norton &amp;amp; Company</td>\n",
       "      <td>http://images.amazon.com/images/P/0393045218.0...</td>\n",
       "      <td>http://images.amazon.com/images/P/0393045218.0...</td>\n",
       "      <td>http://images.amazon.com/images/P/0393045218.0...</td>\n",
       "      <td>the mummies of urumchi e j w barber</td>\n",
       "    </tr>\n",
       "  </tbody>\n",
       "</table>\n",
       "</div>"
      ],
      "text/plain": [
       "         ISBN                                          bookTitle  \\\n",
       "0  0195153448                                Classical Mythology   \n",
       "1  0002005018                                       Clara Callan   \n",
       "2  0060973129                               Decision in Normandy   \n",
       "3  0374157065  Flu: The Story of the Great Influenza Pandemic...   \n",
       "4  0393045218                             The Mummies of Urumchi   \n",
       "\n",
       "             bookAuthor  yearOfPublication                   publisher  \\\n",
       "0    Mark P. O. Morford               2002     Oxford University Press   \n",
       "1  Richard Bruce Wright               2001       HarperFlamingo Canada   \n",
       "2          Carlo D'Este               1991             HarperPerennial   \n",
       "3      Gina Bari Kolata               1999        Farrar Straus Giroux   \n",
       "4       E. J. W. Barber               1999  W. W. Norton &amp; Company   \n",
       "\n",
       "                                           imageUrlS  \\\n",
       "0  http://images.amazon.com/images/P/0195153448.0...   \n",
       "1  http://images.amazon.com/images/P/0002005018.0...   \n",
       "2  http://images.amazon.com/images/P/0060973129.0...   \n",
       "3  http://images.amazon.com/images/P/0374157065.0...   \n",
       "4  http://images.amazon.com/images/P/0393045218.0...   \n",
       "\n",
       "                                           imageUrlM  \\\n",
       "0  http://images.amazon.com/images/P/0195153448.0...   \n",
       "1  http://images.amazon.com/images/P/0002005018.0...   \n",
       "2  http://images.amazon.com/images/P/0060973129.0...   \n",
       "3  http://images.amazon.com/images/P/0374157065.0...   \n",
       "4  http://images.amazon.com/images/P/0393045218.0...   \n",
       "\n",
       "                                           imageUrlL  \\\n",
       "0  http://images.amazon.com/images/P/0195153448.0...   \n",
       "1  http://images.amazon.com/images/P/0002005018.0...   \n",
       "2  http://images.amazon.com/images/P/0060973129.0...   \n",
       "3  http://images.amazon.com/images/P/0374157065.0...   \n",
       "4  http://images.amazon.com/images/P/0393045218.0...   \n",
       "\n",
       "                                        title_author  \n",
       "0               classical mythology mark p o morford  \n",
       "1                  clara callan richard bruce wright  \n",
       "2                   decision in normandy carlo deste  \n",
       "3  flu the story of the great influenza pandemic ...  \n",
       "4                the mummies of urumchi e j w barber  "
      ]
     },
     "execution_count": 507,
     "metadata": {},
     "output_type": "execute_result"
    }
   ],
   "source": [
    "books_all.head()\n"
   ]
  },
  {
   "cell_type": "code",
   "execution_count": null,
   "metadata": {},
   "outputs": [],
   "source": [
    "['0195153448', '0060973129', '0393045218']"
   ]
  },
  {
   "cell_type": "code",
   "execution_count": 512,
   "metadata": {},
   "outputs": [],
   "source": [
    "from PIL import Image\n",
    "import urllib.request, io\n",
    "\n",
    "\n",
    "url = 'http://images.amazon.com/images/P/0002005018.01.LZZZZZZZ.jpg'\n",
    "\n",
    "\n",
    "with urllib.request.urlopen(url) as url:\n",
    "    with open('temp.jpg', 'wb') as f:\n",
    "        f.write(url.read())\n",
    "\n",
    "img = Image.open('temp.jpg')\n",
    "\n",
    "img.show()"
   ]
  },
  {
   "cell_type": "code",
   "execution_count": 513,
   "metadata": {},
   "outputs": [
    {
     "data": {
      "text/plain": [
       "(134299, 3)"
      ]
     },
     "execution_count": 513,
     "metadata": {},
     "output_type": "execute_result"
    }
   ],
   "source": [
    "ratings.shape"
   ]
  },
  {
   "cell_type": "code",
   "execution_count": 515,
   "metadata": {},
   "outputs": [
    {
     "data": {
      "text/plain": [
       "(10077, 9)"
      ]
     },
     "execution_count": 515,
     "metadata": {},
     "output_type": "execute_result"
    }
   ],
   "source": [
    "books_rated.shape"
   ]
  },
  {
   "cell_type": "code",
   "execution_count": 516,
   "metadata": {},
   "outputs": [
    {
     "data": {
      "text/plain": [
       "(12854, 3)"
      ]
     },
     "execution_count": 516,
     "metadata": {},
     "output_type": "execute_result"
    }
   ],
   "source": [
    "users.shape"
   ]
  },
  {
   "cell_type": "code",
   "execution_count": 517,
   "metadata": {},
   "outputs": [
    {
     "data": {
      "text/html": [
       "<div>\n",
       "<style scoped>\n",
       "    .dataframe tbody tr th:only-of-type {\n",
       "        vertical-align: middle;\n",
       "    }\n",
       "\n",
       "    .dataframe tbody tr th {\n",
       "        vertical-align: top;\n",
       "    }\n",
       "\n",
       "    .dataframe thead th {\n",
       "        text-align: right;\n",
       "    }\n",
       "</style>\n",
       "<table border=\"1\" class=\"dataframe\">\n",
       "  <thead>\n",
       "    <tr style=\"text-align: right;\">\n",
       "      <th></th>\n",
       "      <th>userID</th>\n",
       "      <th>ISBN</th>\n",
       "      <th>bookRating</th>\n",
       "    </tr>\n",
       "  </thead>\n",
       "  <tbody>\n",
       "    <tr>\n",
       "      <th>0</th>\n",
       "      <td>276747</td>\n",
       "      <td>0060517794</td>\n",
       "      <td>9</td>\n",
       "    </tr>\n",
       "    <tr>\n",
       "      <th>1</th>\n",
       "      <td>276747</td>\n",
       "      <td>0671537458</td>\n",
       "      <td>9</td>\n",
       "    </tr>\n",
       "    <tr>\n",
       "      <th>2</th>\n",
       "      <td>276747</td>\n",
       "      <td>0679776818</td>\n",
       "      <td>8</td>\n",
       "    </tr>\n",
       "    <tr>\n",
       "      <th>3</th>\n",
       "      <td>276822</td>\n",
       "      <td>0060096195</td>\n",
       "      <td>10</td>\n",
       "    </tr>\n",
       "    <tr>\n",
       "      <th>4</th>\n",
       "      <td>276822</td>\n",
       "      <td>0375821813</td>\n",
       "      <td>9</td>\n",
       "    </tr>\n",
       "    <tr>\n",
       "      <th>...</th>\n",
       "      <td>...</td>\n",
       "      <td>...</td>\n",
       "      <td>...</td>\n",
       "    </tr>\n",
       "    <tr>\n",
       "      <th>134294</th>\n",
       "      <td>276688</td>\n",
       "      <td>0743202694</td>\n",
       "      <td>10</td>\n",
       "    </tr>\n",
       "    <tr>\n",
       "      <th>134295</th>\n",
       "      <td>276688</td>\n",
       "      <td>0836218655</td>\n",
       "      <td>10</td>\n",
       "    </tr>\n",
       "    <tr>\n",
       "      <th>134296</th>\n",
       "      <td>276688</td>\n",
       "      <td>0836236688</td>\n",
       "      <td>10</td>\n",
       "    </tr>\n",
       "    <tr>\n",
       "      <th>134297</th>\n",
       "      <td>276704</td>\n",
       "      <td>0345386108</td>\n",
       "      <td>6</td>\n",
       "    </tr>\n",
       "    <tr>\n",
       "      <th>134298</th>\n",
       "      <td>276704</td>\n",
       "      <td>0743211383</td>\n",
       "      <td>7</td>\n",
       "    </tr>\n",
       "  </tbody>\n",
       "</table>\n",
       "<p>134299 rows × 3 columns</p>\n",
       "</div>"
      ],
      "text/plain": [
       "        userID        ISBN  bookRating\n",
       "0       276747  0060517794           9\n",
       "1       276747  0671537458           9\n",
       "2       276747  0679776818           8\n",
       "3       276822  0060096195          10\n",
       "4       276822  0375821813           9\n",
       "...        ...         ...         ...\n",
       "134294  276688  0743202694          10\n",
       "134295  276688  0836218655          10\n",
       "134296  276688  0836236688          10\n",
       "134297  276704  0345386108           6\n",
       "134298  276704  0743211383           7\n",
       "\n",
       "[134299 rows x 3 columns]"
      ]
     },
     "execution_count": 517,
     "metadata": {},
     "output_type": "execute_result"
    }
   ],
   "source": [
    "ratings"
   ]
  },
  {
   "cell_type": "code",
   "execution_count": 518,
   "metadata": {},
   "outputs": [
    {
     "data": {
      "text/plain": [
       "array([[-8.39758253e-04, -4.25263826e-03, -1.57629989e-03, ...,\n",
       "        -1.38357592e-03, -7.02202708e-05, -1.60068806e-03],\n",
       "       [-1.38960032e-03,  4.28775316e-04, -1.63502068e-03, ...,\n",
       "        -1.26933300e-03, -4.96996561e-05, -9.52014647e-04],\n",
       "       [ 8.91176408e-05, -3.09715926e-03,  2.12155188e-04, ...,\n",
       "        -2.18966588e-03,  4.13468886e-05, -2.84388787e-03],\n",
       "       ...,\n",
       "       [ 2.22074872e-03,  9.06354994e-03, -9.40267512e-03, ...,\n",
       "        -6.02976887e-03, -1.71402746e-03,  2.81756488e-03],\n",
       "       [-1.88295588e-03,  1.33561639e-02,  5.99028452e-03, ...,\n",
       "        -4.64932536e-03, -3.32205355e-03, -1.55999358e-03],\n",
       "       [-8.98074636e-03, -1.10044528e-02, -1.04266977e-02, ...,\n",
       "        -1.86508347e-03, -6.44493397e-04,  2.47770658e-03]])"
      ]
     },
     "execution_count": 518,
     "metadata": {},
     "output_type": "execute_result"
    }
   ],
   "source": [
    "VT"
   ]
  },
  {
   "cell_type": "code",
   "execution_count": 610,
   "metadata": {},
   "outputs": [
    {
     "ename": "TypeError",
     "evalue": "Cannot index by location index with a non-integer key",
     "output_type": "error",
     "traceback": [
      "\u001b[0;31m---------------------------------------------------------------------------\u001b[0m",
      "\u001b[0;31mTypeError\u001b[0m                                 Traceback (most recent call last)",
      "\u001b[0;32m<ipython-input-610-da08e9539fe8>\u001b[0m in \u001b[0;36m<module>\u001b[0;34m\u001b[0m\n\u001b[0;32m----> 1\u001b[0;31m \u001b[0mbooks_all\u001b[0m\u001b[0;34m.\u001b[0m\u001b[0miloc\u001b[0m\u001b[0;34m[\u001b[0m\u001b[0;34m'0679781587'\u001b[0m\u001b[0;34m]\u001b[0m\u001b[0;34m\u001b[0m\u001b[0;34m\u001b[0m\u001b[0m\n\u001b[0m",
      "\u001b[0;32m~/anaconda3/envs/metis/lib/python3.8/site-packages/pandas/core/indexing.py\u001b[0m in \u001b[0;36m__getitem__\u001b[0;34m(self, key)\u001b[0m\n\u001b[1;32m   1766\u001b[0m \u001b[0;34m\u001b[0m\u001b[0m\n\u001b[1;32m   1767\u001b[0m             \u001b[0mmaybe_callable\u001b[0m \u001b[0;34m=\u001b[0m \u001b[0mcom\u001b[0m\u001b[0;34m.\u001b[0m\u001b[0mapply_if_callable\u001b[0m\u001b[0;34m(\u001b[0m\u001b[0mkey\u001b[0m\u001b[0;34m,\u001b[0m \u001b[0mself\u001b[0m\u001b[0;34m.\u001b[0m\u001b[0mobj\u001b[0m\u001b[0;34m)\u001b[0m\u001b[0;34m\u001b[0m\u001b[0;34m\u001b[0m\u001b[0m\n\u001b[0;32m-> 1768\u001b[0;31m             \u001b[0;32mreturn\u001b[0m \u001b[0mself\u001b[0m\u001b[0;34m.\u001b[0m\u001b[0m_getitem_axis\u001b[0m\u001b[0;34m(\u001b[0m\u001b[0mmaybe_callable\u001b[0m\u001b[0;34m,\u001b[0m \u001b[0maxis\u001b[0m\u001b[0;34m=\u001b[0m\u001b[0maxis\u001b[0m\u001b[0;34m)\u001b[0m\u001b[0;34m\u001b[0m\u001b[0;34m\u001b[0m\u001b[0m\n\u001b[0m\u001b[1;32m   1769\u001b[0m \u001b[0;34m\u001b[0m\u001b[0m\n\u001b[1;32m   1770\u001b[0m     \u001b[0;32mdef\u001b[0m \u001b[0m_is_scalar_access\u001b[0m\u001b[0;34m(\u001b[0m\u001b[0mself\u001b[0m\u001b[0;34m,\u001b[0m \u001b[0mkey\u001b[0m\u001b[0;34m:\u001b[0m \u001b[0mTuple\u001b[0m\u001b[0;34m)\u001b[0m\u001b[0;34m:\u001b[0m\u001b[0;34m\u001b[0m\u001b[0;34m\u001b[0m\u001b[0m\n",
      "\u001b[0;32m~/anaconda3/envs/metis/lib/python3.8/site-packages/pandas/core/indexing.py\u001b[0m in \u001b[0;36m_getitem_axis\u001b[0;34m(self, key, axis)\u001b[0m\n\u001b[1;32m   2133\u001b[0m             \u001b[0mkey\u001b[0m \u001b[0;34m=\u001b[0m \u001b[0mitem_from_zerodim\u001b[0m\u001b[0;34m(\u001b[0m\u001b[0mkey\u001b[0m\u001b[0;34m)\u001b[0m\u001b[0;34m\u001b[0m\u001b[0;34m\u001b[0m\u001b[0m\n\u001b[1;32m   2134\u001b[0m             \u001b[0;32mif\u001b[0m \u001b[0;32mnot\u001b[0m \u001b[0mis_integer\u001b[0m\u001b[0;34m(\u001b[0m\u001b[0mkey\u001b[0m\u001b[0;34m)\u001b[0m\u001b[0;34m:\u001b[0m\u001b[0;34m\u001b[0m\u001b[0;34m\u001b[0m\u001b[0m\n\u001b[0;32m-> 2135\u001b[0;31m                 \u001b[0;32mraise\u001b[0m \u001b[0mTypeError\u001b[0m\u001b[0;34m(\u001b[0m\u001b[0;34m\"Cannot index by location index with a non-integer key\"\u001b[0m\u001b[0;34m)\u001b[0m\u001b[0;34m\u001b[0m\u001b[0;34m\u001b[0m\u001b[0m\n\u001b[0m\u001b[1;32m   2136\u001b[0m \u001b[0;34m\u001b[0m\u001b[0m\n\u001b[1;32m   2137\u001b[0m             \u001b[0;31m# validate the location\u001b[0m\u001b[0;34m\u001b[0m\u001b[0;34m\u001b[0m\u001b[0;34m\u001b[0m\u001b[0m\n",
      "\u001b[0;31mTypeError\u001b[0m: Cannot index by location index with a non-integer key"
     ]
    }
   ],
   "source": [
    "books_all.iloc['0679781587']"
   ]
  },
  {
   "cell_type": "code",
   "execution_count": 607,
   "metadata": {},
   "outputs": [
    {
     "data": {
      "text/plain": [
       "Index(['ISBN', 'bookTitle', 'bookAuthor', 'yearOfPublication', 'publisher',\n",
       "       'imageUrlS', 'imageUrlM', 'imageUrlL', 'title_author'],\n",
       "      dtype='object')"
      ]
     },
     "execution_count": 607,
     "metadata": {},
     "output_type": "execute_result"
    }
   ],
   "source": [
    "books_all.columns"
   ]
  },
  {
   "cell_type": "code",
   "execution_count": null,
   "metadata": {},
   "outputs": [],
   "source": []
  }
 ],
 "metadata": {
  "kernelspec": {
   "display_name": "Python [conda env:metis] *",
   "language": "python",
   "name": "conda-env-metis-py"
  },
  "language_info": {
   "codemirror_mode": {
    "name": "ipython",
    "version": 3
   },
   "file_extension": ".py",
   "mimetype": "text/x-python",
   "name": "python",
   "nbconvert_exporter": "python",
   "pygments_lexer": "ipython3",
   "version": "3.8.4"
  }
 },
 "nbformat": 4,
 "nbformat_minor": 4
}
