{
 "cells": [
  {
   "cell_type": "markdown",
   "metadata": {},
   "source": [
    "# Text matching\n",
    "\n",
    "Now I will write functions to [fuzzy match](https://www.datacamp.com/community/tutorials/fuzzy-string-python) titles grabbed using OCR to cleaned up titles from the dataset."
   ]
  },
  {
   "cell_type": "code",
   "execution_count": 57,
   "metadata": {},
   "outputs": [],
   "source": [
    "# text matching\n",
    "import Levenshtein as lev\n",
    "import fuzzywuzzy as fuzz\n",
    "from fuzzywuzzy import fuzz\n",
    "\n",
    "import pandas as pd\n",
    "import re\n",
    "import string\n",
    "\n",
    "import pickle"
   ]
  },
  {
   "cell_type": "markdown",
   "metadata": {},
   "source": [
    "## Importing and preprocessing books data"
   ]
  },
  {
   "cell_type": "code",
   "execution_count": 58,
   "metadata": {},
   "outputs": [
    {
     "name": "stdout",
     "output_type": "stream",
     "text": [
      "\u001b[34mBX-CSV-Dump\u001b[m\u001b[m           rated_books_clean.csv users_clean.csv\r\n",
      "\u001b[34mBX-SQL-Dump\u001b[m\u001b[m           rated_books_clean.pkl users_clean.pkl\r\n",
      "BX-SQL-Dump.zip       ratings_clean.csv     vt.csv\r\n",
      "ISBNs.csv             ratings_clean.pkl     vt_10.csv\r\n",
      "all_books_clean.csv   sigma.csv             vt_100.csv\r\n",
      "all_books_clean.pkl   u.csv                 vt_250.csv\r\n",
      "rated_books_clean     user_item_mat.csv     vt_500.csv\r\n"
     ]
    }
   ],
   "source": [
    "!ls data"
   ]
  },
  {
   "cell_type": "code",
   "execution_count": 60,
   "metadata": {},
   "outputs": [],
   "source": [
    "with open('data/all_books_clean.pkl', 'rb') as f:\n",
    "    books_all = pickle.load(f)\n",
    "    \n",
    "with open('data/rated_books_clean.pkl', 'rb') as f:\n",
    "    books_rated = pickle.load(f)"
   ]
  },
  {
   "cell_type": "code",
   "execution_count": 61,
   "metadata": {},
   "outputs": [],
   "source": [
    "# same preprocessing function from OCR step\n",
    "\n",
    "def clean_string(text):\n",
    "    # clean string to remove non-ASCII text\n",
    "    text = \"\".join([c if ord(c) < 128 else \"\" for c in text])\n",
    "\n",
    "    # standard cleaning\n",
    "    text = text.lower().strip()\n",
    "    \n",
    "    text = re.sub('\\[.*?\\]', '', text)\n",
    "    text = re.sub('[%s]' % re.escape(string.punctuation), '', text)\n",
    "    text = re.sub('\\w*\\d\\w*', '', text)\n",
    "    text = re.sub('[‘’“”…–]', '', text)\n",
    "    text = re.sub('\\n', '', text)\n",
    "    \n",
    "    return text"
   ]
  },
  {
   "cell_type": "markdown",
   "metadata": {},
   "source": [
    "### Books all"
   ]
  },
  {
   "cell_type": "code",
   "execution_count": 62,
   "metadata": {},
   "outputs": [
    {
     "data": {
      "text/plain": [
       "Index(['ISBN', 'bookTitle', 'bookAuthor', 'yearOfPublication', 'publisher',\n",
       "       'imageUrlS', 'imageUrlM', 'imageUrlL'],\n",
       "      dtype='object')"
      ]
     },
     "execution_count": 62,
     "metadata": {},
     "output_type": "execute_result"
    }
   ],
   "source": [
    "books_all.columns"
   ]
  },
  {
   "cell_type": "code",
   "execution_count": 63,
   "metadata": {},
   "outputs": [],
   "source": [
    "books_all['title_author'] = (books_all.bookTitle + ' ' + books_all.bookAuthor)"
   ]
  },
  {
   "cell_type": "code",
   "execution_count": 64,
   "metadata": {},
   "outputs": [],
   "source": [
    "books_all.title_author = books_all.title_author.astype(str)"
   ]
  },
  {
   "cell_type": "code",
   "execution_count": 65,
   "metadata": {},
   "outputs": [],
   "source": [
    "books_all.title_author = books_all.title_author.map(lambda x: clean_string(x))"
   ]
  },
  {
   "cell_type": "code",
   "execution_count": 66,
   "metadata": {},
   "outputs": [
    {
     "data": {
      "text/plain": [
       "0                      classical mythology mark p o morford\n",
       "1                         clara callan richard bruce wright\n",
       "2                          decision in normandy carlo deste\n",
       "3         flu the story of the great influenza pandemic ...\n",
       "4                       the mummies of urumchi e j w barber\n",
       "                                ...                        \n",
       "271355             theres a bat in bunk five paula danziger\n",
       "271356                   from one to one hundred teri sloat\n",
       "271357    lily dale  the true story of the town that tal...\n",
       "271358                       republic worlds classics plato\n",
       "271359    a guided tour of rene descartes meditations on...\n",
       "Name: title_author, Length: 266664, dtype: object"
      ]
     },
     "execution_count": 66,
     "metadata": {},
     "output_type": "execute_result"
    }
   ],
   "source": [
    "books_all.title_author"
   ]
  },
  {
   "cell_type": "code",
   "execution_count": 85,
   "metadata": {},
   "outputs": [],
   "source": [
    "# pickling df with changes\n",
    "pd.to_pickle(books_all, 'data/all_books_clean.pkl')"
   ]
  },
  {
   "cell_type": "markdown",
   "metadata": {},
   "source": [
    "### Books rated"
   ]
  },
  {
   "cell_type": "code",
   "execution_count": 87,
   "metadata": {},
   "outputs": [],
   "source": [
    "books_rated['title_author'] = (books_rated.bookTitle + ' ' + books_rated.bookAuthor)"
   ]
  },
  {
   "cell_type": "code",
   "execution_count": 88,
   "metadata": {},
   "outputs": [],
   "source": [
    "books_rated.title_author = books_rated.title_author.astype(str)"
   ]
  },
  {
   "cell_type": "code",
   "execution_count": 89,
   "metadata": {},
   "outputs": [],
   "source": [
    "books_rated.title_author = books_rated.title_author.map(lambda x: clean_string(x))"
   ]
  },
  {
   "cell_type": "code",
   "execution_count": 90,
   "metadata": {},
   "outputs": [
    {
     "data": {
      "text/plain": [
       "1                         clara callan richard bruce wright\n",
       "3         flu the story of the great influenza pandemic ...\n",
       "5                             the kitchen gods wife amy tan\n",
       "18                               the testament john grisham\n",
       "19         beloved plume contemporary fiction toni morrison\n",
       "                                ...                        \n",
       "172571       the moon is a harsh mistress robert a heinlein\n",
       "173803    the princess diaries the princess diaries vol ...\n",
       "183917    ferne ufer der  band der groen highland saga d...\n",
       "184473    fear and loathing in las vegas and other ameri...\n",
       "186565    diversity alliance star wars young jedi knight...\n",
       "Name: title_author, Length: 10077, dtype: object"
      ]
     },
     "execution_count": 90,
     "metadata": {},
     "output_type": "execute_result"
    }
   ],
   "source": [
    "books_rated.title_author"
   ]
  },
  {
   "cell_type": "code",
   "execution_count": 92,
   "metadata": {},
   "outputs": [],
   "source": [
    "# pickling df with changes\n",
    "pd.to_pickle(books_rated, 'data/rated_books_clean.pkl')"
   ]
  },
  {
   "cell_type": "markdown",
   "metadata": {},
   "source": [
    "## Fuzzy matching\n",
    "### Sample data"
   ]
  },
  {
   "cell_type": "code",
   "execution_count": 73,
   "metadata": {},
   "outputs": [],
   "source": [
    "scraped_titles = ['saa iia bia ie   bn on s i ecrencaiadili ie      si ey si   f im sli lak sa fale less aimle',\n",
    " 'drow t diaz junot d',\n",
    " 'alittle hist e history of poworld gombrich a i  of ti  the w',\n",
    " 'aimmortality milan k a kundera im',\n",
    " 'e great g igaisby f itzgeral dew the g',\n",
    " 'narcissus and nd goldmund  hermann hes n hesse',\n",
    " 'fall the  albert camus']\n",
    "\n",
    "target_corpus = pd.Series(['billy collins aimless love',\n",
    "                          'junot diaz drown',\n",
    "                          'gombrich a little history of the world',\n",
    "                          'milan kundera immortality',\n",
    "                          'f scott fitzgerald the great gatsby',\n",
    "                          'hermann hesse narcissus and goldmund',\n",
    "                          'the fall albert camus'])"
   ]
  },
  {
   "cell_type": "code",
   "execution_count": 74,
   "metadata": {},
   "outputs": [],
   "source": [
    "# testing fuzzy matching on scraped titles vs manually entered actual book titles\n",
    "\n",
    "match_dict = {}\n",
    "\n",
    "for i, Str1 in enumerate(scraped_titles):\n",
    "    match_dict[Str1] = []\n",
    "    for id, Str2 in enumerate(target_corpus):\n",
    "        Ratio = fuzz.ratio(Str1.lower(),Str2.lower())\n",
    "        #print('Ratio: ', Str1, Str2, Ratio)\n",
    "\n",
    "        Partial_Ratio = fuzz.partial_ratio(Str1.lower(),Str2.lower())\n",
    "        #print('Partial Ratio: ', Str1, Str2, Partial_Ratio)\n",
    "\n",
    "        Token_Sort_Ratio = fuzz.token_sort_ratio(Str1,Str2)\n",
    "        #print('Token Sort Ratio: ', Str1, Str2, Token_Sort_Ratio)\n",
    "\n",
    "        Token_Set_Ratio = fuzz.token_set_ratio(Str1,Str2)\n",
    "        #print('Token Set Ratio: ', Str1, Str2, Token_Set_Ratio)\n",
    "        \n",
    "        match_dict[Str1].append({id: (Ratio, Partial_Ratio, Token_Sort_Ratio, Token_Set_Ratio)})\n"
   ]
  },
  {
   "cell_type": "code",
   "execution_count": 75,
   "metadata": {},
   "outputs": [
    {
     "data": {
      "text/plain": [
       "{'saa iia bia ie   bn on s i ecrencaiadili ie      si ey si   f im sli lak sa fale less aimle': [{0: (29,\n",
       "    50,\n",
       "    31,\n",
       "    33)},\n",
       "  {1: (13, 44, 14, 15)},\n",
       "  {2: (25, 37, 28, 30)},\n",
       "  {3: (24, 36, 28, 30)},\n",
       "  {4: (25, 40, 26, 29)},\n",
       "  {5: (27, 33, 32, 34)},\n",
       "  {6: (21, 48, 27, 29)}],\n",
       " 'drow t diaz junot d': [{0: (22, 26, 27, 27)},\n",
       "  {1: (51, 56, 86, 86)},\n",
       "  {2: (35, 37, 28, 28)},\n",
       "  {3: (32, 37, 32, 32)},\n",
       "  {4: (30, 37, 37, 37)},\n",
       "  {5: (33, 32, 25, 25)},\n",
       "  {6: (30, 26, 30, 30)}],\n",
       " 'alittle hist e history of poworld gombrich a i  of ti  the w': [{0: (30,\n",
       "    38,\n",
       "    31,\n",
       "    32)},\n",
       "  {1: (21, 31, 19, 20)},\n",
       "  {2: (49, 63, 62, 82)},\n",
       "  {3: (28, 40, 29, 30)},\n",
       "  {4: (34, 37, 34, 38)},\n",
       "  {5: (29, 39, 28, 29)},\n",
       "  {6: (27, 33, 35, 37)}],\n",
       " 'aimmortality milan k a kundera im': [{0: (34, 35, 37, 37)},\n",
       "  {1: (33, 38, 29, 29)},\n",
       "  {2: (34, 36, 39, 39)},\n",
       "  {3: (55, 65, 86, 86)},\n",
       "  {4: (32, 33, 32, 32)},\n",
       "  {5: (35, 36, 38, 38)},\n",
       "  {6: (37, 38, 30, 30)}],\n",
       " 'e great g igaisby f itzgeral dew the g': [{0: (28, 35, 28, 29)},\n",
       "  {1: (30, 38, 26, 27)},\n",
       "  {2: (42, 42, 39, 46)},\n",
       "  {3: (29, 36, 32, 33)},\n",
       "  {4: (52, 58, 52, 59)},\n",
       "  {5: (35, 33, 27, 28)},\n",
       "  {6: (34, 38, 44, 46)}],\n",
       " 'narcissus and nd goldmund  hermann hes n hesse': [{0: (31, 35, 31, 31)},\n",
       "  {1: (26, 38, 26, 26)},\n",
       "  {2: (33, 34, 39, 39)},\n",
       "  {3: (31, 40, 31, 31)},\n",
       "  {4: (30, 34, 30, 30)},\n",
       "  {5: (54, 61, 89, 100)},\n",
       "  {6: (24, 33, 27, 27)}],\n",
       " 'fall the  albert camus': [{0: (33, 36, 38, 38)},\n",
       "  {1: (21, 25, 27, 27)},\n",
       "  {2: (30, 36, 41, 41)},\n",
       "  {3: (30, 32, 30, 30)},\n",
       "  {4: (46, 56, 39, 39)},\n",
       "  {5: (38, 45, 32, 32)},\n",
       "  {6: (79, 81, 100, 100)}]}"
      ]
     },
     "execution_count": 75,
     "metadata": {},
     "output_type": "execute_result"
    }
   ],
   "source": [
    "match_dict"
   ]
  },
  {
   "cell_type": "markdown",
   "metadata": {},
   "source": [
    "Based off of this test, I will try using token set ratio with a minimum confidence threshold somewhere between 60-80%. I can tweak that more when I am matching to the actual dataset. "
   ]
  },
  {
   "cell_type": "markdown",
   "metadata": {},
   "source": [
    "## Testing on dataset"
   ]
  },
  {
   "cell_type": "code",
   "execution_count": 76,
   "metadata": {},
   "outputs": [],
   "source": [
    "def best_match(input_str, df, min_confidence=75):\n",
    "    '''\n",
    "    gets best fuzzy match of text pulled from OCR to book/author in the book crossing dataset\n",
    "    \n",
    "    output:\n",
    "        1. prints a string with string of title/author as they appear in df\n",
    "        2. returns ISBN of book\n",
    "        \n",
    "    -----------------------\n",
    "    \n",
    "    input_str: \n",
    "        str, title/author pulled from OCR, should be 'books_all' df\n",
    "        \n",
    "    df: \n",
    "        series, all cleaned and preprocessed title/authors from dataset (books_all.title_author)\n",
    "        \n",
    "    min_confidence:\n",
    "        int, min fuzzy match ratio for fuzz.token_set_ratio. default set to 70%.\n",
    "    \n",
    "    \n",
    "    '''\n",
    "        \n",
    "    match_dict = {}\n",
    "    \n",
    "    for book in df.title_author:\n",
    "        match_ratio = fuzz.token_set_ratio(input_str, book)\n",
    "        match_dict[match_ratio] = book\n",
    "\n",
    "    best_match_ratio = max(match_dict.keys())\n",
    "    best_match_title = match_dict[best_match_ratio]\n",
    "    best_match_index = df[df.title_author == best_match_title].index[0]\n",
    "    best_match_isbn = df.iloc[best_match_index].ISBN\n",
    "    \n",
    "    if best_match_ratio > min_confidence:\n",
    "        print(\"Closest match was '{}' at {}% confidence\".format(best_match_title, best_match_ratio))\n",
    "\n",
    "        return best_match_isbn\n",
    "    \n",
    "    else:\n",
    "        print(\"No match! Closest match was '{}' at {}% confidence\".format(best_match_title, best_match_ratio))\n",
    "\n"
   ]
  },
  {
   "cell_type": "code",
   "execution_count": 77,
   "metadata": {},
   "outputs": [
    {
     "name": "stdout",
     "output_type": "stream",
     "text": [
      "Closest match was 'drown junot diaz' at 86% confidence\n"
     ]
    },
    {
     "data": {
      "text/plain": [
       "'0747235465'"
      ]
     },
     "execution_count": 77,
     "metadata": {},
     "output_type": "execute_result"
    }
   ],
   "source": [
    "best_match(scraped_titles[1], books_all)"
   ]
  },
  {
   "cell_type": "code",
   "execution_count": 78,
   "metadata": {},
   "outputs": [
    {
     "data": {
      "text/html": [
       "<div>\n",
       "<style scoped>\n",
       "    .dataframe tbody tr th:only-of-type {\n",
       "        vertical-align: middle;\n",
       "    }\n",
       "\n",
       "    .dataframe tbody tr th {\n",
       "        vertical-align: top;\n",
       "    }\n",
       "\n",
       "    .dataframe thead th {\n",
       "        text-align: right;\n",
       "    }\n",
       "</style>\n",
       "<table border=\"1\" class=\"dataframe\">\n",
       "  <thead>\n",
       "    <tr style=\"text-align: right;\">\n",
       "      <th></th>\n",
       "      <th>ISBN</th>\n",
       "      <th>bookTitle</th>\n",
       "      <th>bookAuthor</th>\n",
       "      <th>yearOfPublication</th>\n",
       "      <th>publisher</th>\n",
       "      <th>imageUrlS</th>\n",
       "      <th>imageUrlM</th>\n",
       "      <th>imageUrlL</th>\n",
       "      <th>title_author</th>\n",
       "    </tr>\n",
       "  </thead>\n",
       "  <tbody>\n",
       "    <tr>\n",
       "      <th>71836</th>\n",
       "      <td>1573220418</td>\n",
       "      <td>Drown</td>\n",
       "      <td>Junot Diaz</td>\n",
       "      <td>1996</td>\n",
       "      <td>Riverhead Books</td>\n",
       "      <td>http://images.amazon.com/images/P/1573220418.0...</td>\n",
       "      <td>http://images.amazon.com/images/P/1573220418.0...</td>\n",
       "      <td>http://images.amazon.com/images/P/1573220418.0...</td>\n",
       "      <td>drown junot diaz</td>\n",
       "    </tr>\n",
       "  </tbody>\n",
       "</table>\n",
       "</div>"
      ],
      "text/plain": [
       "             ISBN bookTitle  bookAuthor  yearOfPublication        publisher  \\\n",
       "71836  1573220418     Drown  Junot Diaz               1996  Riverhead Books   \n",
       "\n",
       "                                               imageUrlS  \\\n",
       "71836  http://images.amazon.com/images/P/1573220418.0...   \n",
       "\n",
       "                                               imageUrlM  \\\n",
       "71836  http://images.amazon.com/images/P/1573220418.0...   \n",
       "\n",
       "                                               imageUrlL      title_author  \n",
       "71836  http://images.amazon.com/images/P/1573220418.0...  drown junot diaz  "
      ]
     },
     "execution_count": 78,
     "metadata": {},
     "output_type": "execute_result"
    }
   ],
   "source": [
    "# testing that ISBN is correct\n",
    "\n",
    "books_all[books_all.ISBN == '1573220418']"
   ]
  },
  {
   "cell_type": "code",
   "execution_count": 79,
   "metadata": {},
   "outputs": [
    {
     "name": "stdout",
     "output_type": "stream",
     "text": [
      "Closest match was 'immortality milan kundera' at 86% confidence\n"
     ]
    },
    {
     "data": {
      "text/plain": [
       "'0553213180'"
      ]
     },
     "execution_count": 79,
     "metadata": {},
     "output_type": "execute_result"
    }
   ],
   "source": [
    "best_match(scraped_titles[3], books_all)"
   ]
  },
  {
   "cell_type": "code",
   "execution_count": 80,
   "metadata": {},
   "outputs": [
    {
     "data": {
      "text/html": [
       "<div>\n",
       "<style scoped>\n",
       "    .dataframe tbody tr th:only-of-type {\n",
       "        vertical-align: middle;\n",
       "    }\n",
       "\n",
       "    .dataframe tbody tr th {\n",
       "        vertical-align: top;\n",
       "    }\n",
       "\n",
       "    .dataframe thead th {\n",
       "        text-align: right;\n",
       "    }\n",
       "</style>\n",
       "<table border=\"1\" class=\"dataframe\">\n",
       "  <thead>\n",
       "    <tr style=\"text-align: right;\">\n",
       "      <th></th>\n",
       "      <th>ISBN</th>\n",
       "      <th>bookTitle</th>\n",
       "      <th>bookAuthor</th>\n",
       "      <th>yearOfPublication</th>\n",
       "      <th>publisher</th>\n",
       "      <th>imageUrlS</th>\n",
       "      <th>imageUrlM</th>\n",
       "      <th>imageUrlL</th>\n",
       "      <th>title_author</th>\n",
       "    </tr>\n",
       "  </thead>\n",
       "  <tbody>\n",
       "    <tr>\n",
       "      <th>9573</th>\n",
       "      <td>0060974486</td>\n",
       "      <td>Immortality</td>\n",
       "      <td>Milan Kundera</td>\n",
       "      <td>1992</td>\n",
       "      <td>Perennial</td>\n",
       "      <td>http://images.amazon.com/images/P/0060974486.0...</td>\n",
       "      <td>http://images.amazon.com/images/P/0060974486.0...</td>\n",
       "      <td>http://images.amazon.com/images/P/0060974486.0...</td>\n",
       "      <td>immortality milan kundera</td>\n",
       "    </tr>\n",
       "  </tbody>\n",
       "</table>\n",
       "</div>"
      ],
      "text/plain": [
       "            ISBN    bookTitle     bookAuthor  yearOfPublication  publisher  \\\n",
       "9573  0060974486  Immortality  Milan Kundera               1992  Perennial   \n",
       "\n",
       "                                              imageUrlS  \\\n",
       "9573  http://images.amazon.com/images/P/0060974486.0...   \n",
       "\n",
       "                                              imageUrlM  \\\n",
       "9573  http://images.amazon.com/images/P/0060974486.0...   \n",
       "\n",
       "                                              imageUrlL  \\\n",
       "9573  http://images.amazon.com/images/P/0060974486.0...   \n",
       "\n",
       "                   title_author  \n",
       "9573  immortality milan kundera  "
      ]
     },
     "execution_count": 80,
     "metadata": {},
     "output_type": "execute_result"
    }
   ],
   "source": [
    "# testing that ISBN is correct\n",
    "\n",
    "books_all[books_all.ISBN == '0060974486']"
   ]
  },
  {
   "cell_type": "code",
   "execution_count": 81,
   "metadata": {},
   "outputs": [
    {
     "name": "stdout",
     "output_type": "stream",
     "text": [
      "No match! Closest match was 'a child shall lead them lessons about hope from children with cancer diane m komp' at 50% confidence\n"
     ]
    }
   ],
   "source": [
    "best_match(scraped_titles[0], books_all)"
   ]
  },
  {
   "cell_type": "code",
   "execution_count": 82,
   "metadata": {},
   "outputs": [
    {
     "name": "stdout",
     "output_type": "stream",
     "text": [
      "No match! Closest match was 'a child shall lead them lessons about hope from children with cancer diane m komp' at 50% confidence\n",
      "saa iia bia ie   bn on s i ecrencaiadili ie      si ey si   f im sli lak sa fale less aimle >>> None \n",
      "\n",
      "Closest match was 'drown junot diaz' at 86% confidence\n",
      "drow t diaz junot d >>> 0747235465 \n",
      "\n",
      "No match! Closest match was 'the story of art e h gombrich' at 74% confidence\n",
      "alittle hist e history of poworld gombrich a i  of ti  the w >>> None \n",
      "\n",
      "Closest match was 'immortality milan kundera' at 86% confidence\n",
      "aimmortality milan k a kundera im >>> 0553213180 \n",
      "\n",
      "No match! Closest match was 'the great brain at the academy john fitzgerald' at 64% confidence\n",
      "e great g igaisby f itzgeral dew the g >>> None \n",
      "\n",
      "Closest match was 'narcissus and goldmund hermann hesse' at 100% confidence\n",
      "narcissus and nd goldmund  hermann hes n hesse >>> 0671721720 \n",
      "\n",
      "Closest match was 'the fall  albert camus' at 100% confidence\n",
      "fall the  albert camus >>> 0385489587 \n",
      "\n"
     ]
    }
   ],
   "source": [
    "for title in scraped_titles:\n",
    "    print(title,  '>>>', best_match(title, books_all), '\\n')"
   ]
  },
  {
   "cell_type": "code",
   "execution_count": 83,
   "metadata": {},
   "outputs": [
    {
     "name": "stdout",
     "output_type": "stream",
     "text": [
      "No match! Closest match was 'a child shall lead them lessons about hope from children with cancer diane m komp' at 50% confidence\n",
      "Closest match was 'drown junot diaz' at 86% confidence\n",
      "No match! Closest match was 'the story of art e h gombrich' at 74% confidence\n",
      "Closest match was 'immortality milan kundera' at 86% confidence\n",
      "No match! Closest match was 'the great brain at the academy john fitzgerald' at 64% confidence\n",
      "Closest match was 'narcissus and goldmund hermann hesse' at 100% confidence\n",
      "Closest match was 'the fall  albert camus' at 100% confidence\n"
     ]
    },
    {
     "data": {
      "text/plain": [
       "[None, '0747235465', None, '0553213180', None, '0671721720', '0385489587']"
      ]
     },
     "execution_count": 83,
     "metadata": {},
     "output_type": "execute_result"
    }
   ],
   "source": [
    "[best_match(title, books_all) for title in scraped_titles]"
   ]
  },
  {
   "cell_type": "code",
   "execution_count": 84,
   "metadata": {},
   "outputs": [
    {
     "data": {
      "text/html": [
       "<div>\n",
       "<style scoped>\n",
       "    .dataframe tbody tr th:only-of-type {\n",
       "        vertical-align: middle;\n",
       "    }\n",
       "\n",
       "    .dataframe tbody tr th {\n",
       "        vertical-align: top;\n",
       "    }\n",
       "\n",
       "    .dataframe thead th {\n",
       "        text-align: right;\n",
       "    }\n",
       "</style>\n",
       "<table border=\"1\" class=\"dataframe\">\n",
       "  <thead>\n",
       "    <tr style=\"text-align: right;\">\n",
       "      <th></th>\n",
       "      <th>ISBN</th>\n",
       "      <th>bookTitle</th>\n",
       "      <th>bookAuthor</th>\n",
       "      <th>yearOfPublication</th>\n",
       "      <th>publisher</th>\n",
       "      <th>imageUrlS</th>\n",
       "      <th>imageUrlM</th>\n",
       "      <th>imageUrlL</th>\n",
       "      <th>title_author</th>\n",
       "    </tr>\n",
       "  </thead>\n",
       "  <tbody>\n",
       "    <tr>\n",
       "      <th>70569</th>\n",
       "      <td>0373217315</td>\n",
       "      <td>Baby Be Mine (2 Novels in 1)</td>\n",
       "      <td>Anne Marie Winston</td>\n",
       "      <td>2002</td>\n",
       "      <td>Silhouette</td>\n",
       "      <td>http://images.amazon.com/images/P/0373217315.0...</td>\n",
       "      <td>http://images.amazon.com/images/P/0373217315.0...</td>\n",
       "      <td>http://images.amazon.com/images/P/0373217315.0...</td>\n",
       "      <td>baby be mine  novels in  anne marie winston</td>\n",
       "    </tr>\n",
       "  </tbody>\n",
       "</table>\n",
       "</div>"
      ],
      "text/plain": [
       "             ISBN                     bookTitle          bookAuthor  \\\n",
       "70569  0373217315  Baby Be Mine (2 Novels in 1)  Anne Marie Winston   \n",
       "\n",
       "       yearOfPublication   publisher  \\\n",
       "70569               2002  Silhouette   \n",
       "\n",
       "                                               imageUrlS  \\\n",
       "70569  http://images.amazon.com/images/P/0373217315.0...   \n",
       "\n",
       "                                               imageUrlM  \\\n",
       "70569  http://images.amazon.com/images/P/0373217315.0...   \n",
       "\n",
       "                                               imageUrlL  \\\n",
       "70569  http://images.amazon.com/images/P/0373217315.0...   \n",
       "\n",
       "                                      title_author  \n",
       "70569  baby be mine  novels in  anne marie winston  "
      ]
     },
     "execution_count": 84,
     "metadata": {},
     "output_type": "execute_result"
    }
   ],
   "source": [
    "books_all[books_all.ISBN == '0373217315']"
   ]
  },
  {
   "cell_type": "code",
   "execution_count": null,
   "metadata": {},
   "outputs": [],
   "source": []
  },
  {
   "cell_type": "code",
   "execution_count": null,
   "metadata": {},
   "outputs": [],
   "source": []
  },
  {
   "cell_type": "code",
   "execution_count": null,
   "metadata": {},
   "outputs": [],
   "source": []
  },
  {
   "cell_type": "code",
   "execution_count": null,
   "metadata": {},
   "outputs": [],
   "source": []
  },
  {
   "cell_type": "code",
   "execution_count": null,
   "metadata": {},
   "outputs": [],
   "source": []
  },
  {
   "cell_type": "code",
   "execution_count": null,
   "metadata": {},
   "outputs": [],
   "source": []
  },
  {
   "cell_type": "code",
   "execution_count": null,
   "metadata": {},
   "outputs": [],
   "source": []
  }
 ],
 "metadata": {
  "kernelspec": {
   "display_name": "Python [conda env:metis] *",
   "language": "python",
   "name": "conda-env-metis-py"
  },
  "language_info": {
   "codemirror_mode": {
    "name": "ipython",
    "version": 3
   },
   "file_extension": ".py",
   "mimetype": "text/x-python",
   "name": "python",
   "nbconvert_exporter": "python",
   "pygments_lexer": "ipython3",
   "version": "3.8.4"
  }
 },
 "nbformat": 4,
 "nbformat_minor": 4
}
