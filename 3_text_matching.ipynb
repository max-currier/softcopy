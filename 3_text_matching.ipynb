{
 "cells": [
  {
   "cell_type": "markdown",
   "metadata": {},
   "source": [
    "# Text matching\n",
    "\n",
    "Now I will write functions to [fuzzy match](https://www.datacamp.com/community/tutorials/fuzzy-string-python) titles grabbed using OCR to cleaned up titles from the dataset."
   ]
  },
  {
   "cell_type": "code",
   "execution_count": 1,
   "metadata": {},
   "outputs": [],
   "source": [
    "# text matching\n",
    "import Levenshtein as lev\n",
    "import fuzzywuzzy as fuzz\n",
    "from fuzzywuzzy import fuzz\n"
   ]
  },
  {
   "cell_type": "code",
   "execution_count": 2,
   "metadata": {},
   "outputs": [],
   "source": [
    "scraped_titles = ['gg ll  ns bill wi ea aimle',\n",
    " 'drow diaz junot',\n",
    " 'rule evle hl  history o world gombrich zoe the',\n",
    " 'immortality milan kundera i',\n",
    " 'great gatcrby itzgeral d the',\n",
    " 'narcissus an d goldmund hermann he  hesse fsg fall',\n",
    " 'lhe albert camus']\n",
    "\n",
    "target_corpus = ['billy collins aimless love',\n",
    "        'junot diaz drown',\n",
    "         'gombrich a little history of the world',\n",
    "         'milan kundera immortality',\n",
    "         'f scott fitzgerald the great gatsby',\n",
    "         'hermann hesse narcissus and goldmund',\n",
    "         'the fall albert camus']"
   ]
  },
  {
   "cell_type": "code",
   "execution_count": 3,
   "metadata": {},
   "outputs": [],
   "source": [
    "# testing fuzzy matching on scraped titles vs manually entered actual book titles\n",
    "\n",
    "match_dict = {}\n",
    "\n",
    "for i, Str1 in enumerate(scraped_titles):\n",
    "    match_dict[Str1] = []\n",
    "    for id, Str2 in enumerate(target_corpus):\n",
    "        Ratio = fuzz.ratio(Str1.lower(),Str2.lower())\n",
    "        #print('Ratio: ', Str1, Str2, Ratio)\n",
    "\n",
    "        Partial_Ratio = fuzz.partial_ratio(Str1.lower(),Str2.lower())\n",
    "        #print('Partial Ratio: ', Str1, Str2, Partial_Ratio)\n",
    "\n",
    "        Token_Sort_Ratio = fuzz.token_sort_ratio(Str1,Str2)\n",
    "        #print('Token Sort Ratio: ', Str1, Str2, Token_Sort_Ratio)\n",
    "\n",
    "        Token_Set_Ratio = fuzz.token_set_ratio(Str1,Str2)\n",
    "        #print('Token Set Ratio: ', Str1, Str2, Token_Set_Ratio)\n",
    "        \n",
    "        match_dict[Str1].append({id: (Ratio, Partial_Ratio, Token_Sort_Ratio, Token_Set_Ratio)})\n"
   ]
  },
  {
   "cell_type": "code",
   "execution_count": 4,
   "metadata": {},
   "outputs": [
    {
     "data": {
      "text/plain": [
       "{'gg ll  ns bill wi ea aimle': [{0: (46, 46, 63, 63)},\n",
       "  {1: (24, 31, 24, 24)},\n",
       "  {2: (34, 35, 35, 35)},\n",
       "  {3: (35, 36, 40, 40)},\n",
       "  {4: (36, 35, 33, 33)},\n",
       "  {5: (26, 31, 33, 33)},\n",
       "  {6: (38, 39, 39, 39)}],\n",
       " 'drow diaz junot': [{0: (24, 27, 24, 24)},\n",
       "  {1: (52, 53, 97, 97)},\n",
       "  {2: (23, 33, 26, 26)},\n",
       "  {3: (35, 40, 35, 35)},\n",
       "  {4: (24, 27, 28, 28)},\n",
       "  {5: (27, 33, 24, 24)},\n",
       "  {6: (22, 27, 28, 28)}],\n",
       " 'rule evle hl  history o world gombrich zoe the': [{0: (31, 35, 37, 37)},\n",
       "  {1: (23, 31, 23, 23)},\n",
       "  {2: (48, 53, 75, 81)},\n",
       "  {3: (28, 32, 29, 29)},\n",
       "  {4: (32, 37, 35, 38)},\n",
       "  {5: (32, 36, 32, 32)},\n",
       "  {6: (27, 33, 36, 36)}],\n",
       " 'immortality milan kundera i': [{0: (34, 35, 34, 34)},\n",
       "  {1: (37, 38, 33, 33)},\n",
       "  {2: (34, 37, 37, 37)},\n",
       "  {3: (58, 75, 96, 100)},\n",
       "  {4: (35, 41, 35, 35)},\n",
       "  {5: (32, 34, 35, 35)},\n",
       "  {6: (33, 33, 29, 29)}],\n",
       " 'great gatcrby itzgeral d the': [{0: (30, 31, 26, 26)},\n",
       "  {1: (27, 31, 27, 27)},\n",
       "  {2: (42, 46, 39, 45)},\n",
       "  {3: (34, 36, 34, 34)},\n",
       "  {4: (51, 57, 60, 60)},\n",
       "  {5: (28, 32, 31, 31)},\n",
       "  {6: (33, 38, 45, 45)}],\n",
       " 'narcissus an d goldmund hermann he  hesse fsg fall': [{0: (32, 35, 27, 27)},\n",
       "  {1: (24, 44, 25, 25)},\n",
       "  {2: (34, 37, 32, 32)},\n",
       "  {3: (35, 40, 30, 30)},\n",
       "  {4: (33, 40, 31, 31)},\n",
       "  {5: (51, 61, 85, 94)},\n",
       "  {6: (23, 33, 29, 37)}],\n",
       " 'lhe albert camus': [{0: (33, 38, 43, 43)},\n",
       "  {1: (19, 19, 25, 25)},\n",
       "  {2: (30, 44, 33, 33)},\n",
       "  {3: (29, 38, 34, 34)},\n",
       "  {4: (35, 50, 39, 39)},\n",
       "  {5: (35, 44, 31, 31)},\n",
       "  {6: (81, 88, 86, 86)}]}"
      ]
     },
     "execution_count": 4,
     "metadata": {},
     "output_type": "execute_result"
    }
   ],
   "source": [
    "match_dict"
   ]
  },
  {
   "cell_type": "markdown",
   "metadata": {},
   "source": [
    "Based off of this test, I will try using token set ratio with a minimum confidence threshold somewhere between 60-80%. I can tweak that more when I am matching to the actual dataset. "
   ]
  },
  {
   "cell_type": "code",
   "execution_count": null,
   "metadata": {},
   "outputs": [],
   "source": []
  }
 ],
 "metadata": {
  "kernelspec": {
   "display_name": "Python [conda env:metis] *",
   "language": "python",
   "name": "conda-env-metis-py"
  },
  "language_info": {
   "codemirror_mode": {
    "name": "ipython",
    "version": 3
   },
   "file_extension": ".py",
   "mimetype": "text/x-python",
   "name": "python",
   "nbconvert_exporter": "python",
   "pygments_lexer": "ipython3",
   "version": "3.8.4"
  }
 },
 "nbformat": 4,
 "nbformat_minor": 4
}
